{
  "cells": [
    {
      "cell_type": "markdown",
      "id": "d3f01de4",
      "metadata": {
        "id": "d3f01de4"
      },
      "source": [
        "<html>\n",
        "    <summary></summary>\n",
        "         <div> <p></p> </div>\n",
        "         <div style=\"font-size: 20px; width: 800px;\">\n",
        "              <h1>\n",
        "               <left>Determing Growth Rate</left>\n",
        "              </h1>\n",
        "              <p><left>============================================================================</left> </p>\n",
        "<pre>Course: ASU CBP Summer School 2025\n",
        "Instructor: Dr. Douglas Shepherd\n",
        "Contact Info: douglas.shepherd@asu.edu\n",
        "Authors: Dr. Douglas Shepherd\n",
        "</pre>\n",
        "         </div>\n",
        "    </p>\n",
        "\n",
        "</html>\n",
        "\n",
        "<details>\n",
        "  <summary>Copyright info</summary>\n",
        "\n",
        "```\n",
        "Copyright 2018 Griffin Chure\n",
        "\n",
        "Redistribution and use in source and binary forms, with or without modification, are permitted provided that the following conditions are met:\n",
        "\n",
        "1. Redistributions of source code must retain the above copyright notice, this list of conditions and the following disclaimer.\n",
        "\n",
        "2. Redistributions in binary form must reproduce the above copyright notice, this list of conditions and the following disclaimer in the documentation and/or other materials provided with the distribution.\n",
        "\n",
        "3. Neither the name of the copyright holder nor the names of its contributors may be used to endorse or promote products derived from this software without specific prior written permission.\n",
        "\n",
        "THIS SOFTWARE IS PROVIDED BY THE COPYRIGHT HOLDERS AND CONTRIBUTORS \"AS IS\" AND ANY EXPRESS OR IMPLIED WARRANTIES, INCLUDING, BUT NOT LIMITED TO, THE IMPLIED WARRANTIES OF MERCHANTABILITY AND FITNESS FOR A PARTICULAR PURPOSE ARE DISCLAIMED. IN NO EVENT SHALL THE COPYRIGHT HOLDER OR CONTRIBUTORS BE LIABLE FOR ANY DIRECT, INDIRECT, INCIDENTAL, SPECIAL, EXEMPLARY, OR CONSEQUENTIAL DAMAGES (INCLUDING, BUT NOT LIMITED TO, PROCUREMENT OF SUBSTITUTE GOODS OR SERVICES; LOSS OF USE, DATA, OR PROFITS; OR BUSINESS INTERRUPTION) HOWEVER CAUSED AND ON ANY THEORY OF LIABILITY, WHETHER IN CONTRACT, STRICT LIABILITY, OR TORT (INCLUDING NEGLIGENCE OR OTHERWISE) ARISING IN ANY WAY OUT OF THE USE OF THIS SOFTWARE, EVEN IF ADVISED OF THE POSSIBILITY OF SUCH DAMAGE.\n",
        "```\n",
        "<details>\n",
        "\n"
      ]
    },
    {
      "cell_type": "markdown",
      "id": "1be25612",
      "metadata": {
        "id": "1be25612"
      },
      "source": [
        "<table class=\"tfo-notebook-buttons\" align=\"left\">\n",
        "  <td>\n",
        "    <a target=\"_blank\" href=\"https://colab.research.google.com/github/QI2lab/2025-CBP-SummerSchool/blob/main/Module4-BacteriaGrowth/M4B_Determining_Growth_Rate.ipynb\"><img src=\"https://www.tensorflow.org/images/colab_logo_32px.png\" />Run in Google Colab</a>\n",
        "  </td>\n",
        "  <td>\n",
        "    <a target=\"_blank\" href=\"https://github.com/QI2lab/2025-CBP-SummerSchool/blob/main/Module4-BacteriaGrowth/M4B_Determining_Growth_Rate.ipynb\"><img src=\"https://www.tensorflow.org/images/GitHub-Mark-32px.png\" />View source on GitHub</a>\n",
        "  </td>\n",
        "</table>"
      ]
    },
    {
      "cell_type": "markdown",
      "id": "937fa9aa",
      "metadata": {
        "id": "937fa9aa"
      },
      "source": [
        "# Learning Objectives\n",
        "In this lesson, we are going to analyze and fit experimental data of bacteria dividing to determine their growth rate. After completing this lesson, you should be able to:\n",
        "* Determine the distribution of cell division times from experimental data\n",
        "* Fit the population growth to the exponential growth equation"
      ]
    },
    {
      "cell_type": "markdown",
      "id": "67745291",
      "metadata": {
        "id": "67745291"
      },
      "source": [
        "# Using microscopy to measure bacterial growth\n",
        "\n",
        "While we have just scraped the surface of growth in class, there is a seemingly endless reservoir of literature that explores the fascinating physiology of cellular growth. For a detailed summary, see [this review](https://jun.ucsd.edu/files/publications/Jun_ROPP_2018.pdf) by Suckjoon Jun and colleagues which gives both a historical accounting of bacterial growth physiology and a view of the future of the field.\n",
        "\n",
        "As discussed in class and examined numerically in [Module 4A](M4A_ExponentialGrowth.ipynb), the continuous growth phase of a bacterial culture can be stated mathematically using the Exponetial Growth equation,\n",
        "\n",
        "$$\n",
        "N(t) = N_0 e^{rt}, \\tag{1}\n",
        "$$\n",
        "\n",
        "where $N(t)$ is the number of cells at time $t$, $N_0$ is the initial number of cells and $r$ is the growth rate in dimensions of time.   Experimentally, it's difficult to count the number of cells in a large culture, but easy to measure for smaller colonies and cultures.\n",
        "\n",
        "In this tutorial, we will use a movie of *E. coli* cells growing on a hard agar subtstrate at 100x magnification. Below, we have raw phase microscopy data (left), segmentation of individual cells (center), and the result of tracking individual cells and daughter cells (right).\n",
        "\n",
        "<p style=\"text-align:center;\">\n",
        "  <span style=\"display:inline-block; margin:0 10px; text-align:center;\">\n",
        "    <img src=\"https://github.com/QI2lab/2025-CBP-SummerSchool/blob/main/Module4-BacteriaGrowth/Figures/data_gif.gif?raw=1\" width=\"200\" alt=\"Raw E. coli phase data\" /><br>\n",
        "    <strong>Phase data</strong>\n",
        "  </span>\n",
        "  <span style=\"display:inline-block; margin:0 10px; text-align:center;\">\n",
        "    <img src=\"https://github.com/QI2lab/2025-CBP-SummerSchool/blob/main/Module4-BacteriaGrowth/Figures/mask_gif.gif?raw=1\" width=\"200\" alt=\"Segemented E. coli phase data\" /><br>\n",
        "    <strong>Segmented</strong>\n",
        "  </span>\n",
        "  <span style=\"display:inline-block; margin:0 10px; text-align:center;\">\n",
        "    <img src=\"https://github.com/QI2lab/2025-CBP-SummerSchool/blob/main/Module4-BacteriaGrowth/Figures/tracked_gif.gif?raw=1\" width=\"200\" alt=\"Tracked E. Coli phase data\" /><br>\n",
        "    <strong>Tracked</strong>\n",
        "  </span>\n",
        "</p>"
      ]
    },
    {
      "cell_type": "markdown",
      "id": "d5be825f",
      "metadata": {
        "id": "d5be825f"
      },
      "source": [
        "# More about microscopy data\n",
        "\n",
        "While we often think of images as a colorful photograph, it is important to remember that at its core, a digital image is nothing but data. An image is a matrix of numbers upon which we can deploy mathematical operations. We'll download the data underlying the above movies to your Colab instance in the next code block."
      ]
    },
    {
      "cell_type": "code",
      "execution_count": 16,
      "id": "77229f7e",
      "metadata": {
        "id": "77229f7e",
        "vscode": {
          "languageId": "plaintext"
        },
        "colab": {
          "base_uri": "https://localhost:8080/",
          "height": 191
        },
        "outputId": "c1b548ec-22e3-4a23-edda-38388e6a1d88"
      },
      "outputs": [
        {
          "output_type": "stream",
          "name": "stderr",
          "text": [
            "Downloading...\n",
            "From (original): https://drive.google.com/uc?id=1nxY9-jEGmrH8elRdiMENFhBb64mMYl8q\n",
            "From (redirected): https://drive.google.com/uc?id=1nxY9-jEGmrH8elRdiMENFhBb64mMYl8q&confirm=t&uuid=63272ea0-a312-46b2-aa4d-cf4ef1bcdb8e\n",
            "To: /content/cbpSS2025.zip\n",
            "100%|██████████| 32.0M/32.0M [00:00<00:00, 177MB/s]\n"
          ]
        },
        {
          "output_type": "stream",
          "name": "stdout",
          "text": [
            "replace /content/cbpSS2025/masks/Composite_00_cp_masks.tif? [y]es, [n]o, [A]ll, [N]one, [r]ename: "
          ]
        },
        {
          "output_type": "stream",
          "name": "stderr",
          "text": [
            "Downloading...\n",
            "From: https://drive.google.com/uc?id=1nW_-ouf_6THFhuoXNEL5GkcB3twmYQNS\n",
            "To: /content/cbpSS2025/tracking_result.txt\n",
            "100%|██████████| 3.96k/3.96k [00:00<00:00, 7.31MB/s]\n"
          ]
        },
        {
          "output_type": "execute_result",
          "data": {
            "text/plain": [
              "'/content/cbpSS2025/tracking_result.txt'"
            ],
            "application/vnd.google.colaboratory.intrinsic+json": {
              "type": "string"
            }
          },
          "metadata": {},
          "execution_count": 16
        }
      ],
      "source": [
        "# Download data\n",
        "!pip install -q gdown\n",
        "import gdown\n",
        "\n",
        "# download the .zip containing the image data\n",
        "file_id = \"1nxY9-jEGmrH8elRdiMENFhBb64mMYl8q\"\n",
        "out = \"/content/cbpSS2025.zip\"\n",
        "gdown.download(id = file_id, output=out,quiet=False)\n",
        "\n",
        "# unzip data\n",
        "!unzip -q /content/cbpSS2025.zip -d /content/cbpSS2025/\n",
        "\n",
        "file_id = \"1nW_-ouf_6THFhuoXNEL5GkcB3twmYQNS\"\n",
        "out = \"/content/cbpSS2025/tracking_result.txt\"\n",
        "\n",
        "# Using the ID avoids any Drive viewer HTML\n",
        "gdown.download(id=file_id, output=out, quiet=False)"
      ]
    },
    {
      "cell_type": "markdown",
      "id": "296c8b5d",
      "metadata": {
        "id": "296c8b5d"
      },
      "source": [
        "# Viewing \"n\" dimensional data in Python\n",
        "\n",
        "We can view these timelapse data using an interactive viewer, such as [stackview](https://pypi.org/project/stackview/). To do this, we need to know a little more about the experiment itself. We often call this \"metadata\" and the information is critical to correctly analyzing experiments.\n",
        "\n",
        "The camera used in these experiments has a pixel size of $6.5$ $\\mu m$.\n",
        "The objective used in the experiments has a magnficiation of $100$ $\\times$.\n",
        "The interval between pictures is $5$ minutes.\n",
        "\n",
        "To know how big each pixel in our digital images is, we divide the camera pixel size by the microscope magnfication, $6.5/100$ $=$ $.065$ $\\mu m$."
      ]
    },
    {
      "cell_type": "markdown",
      "source": [
        "# data strat\n",
        "use the max of each image as total cell count ?"
      ],
      "metadata": {
        "id": "PAUXtxrDE2rW"
      },
      "id": "PAUXtxrDE2rW"
    },
    {
      "cell_type": "code",
      "execution_count": 9,
      "id": "7e802097",
      "metadata": {
        "id": "7e802097",
        "vscode": {
          "languageId": "plaintext"
        },
        "colab": {
          "base_uri": "https://localhost:8080/",
          "height": 911
        },
        "outputId": "721dad89-071b-43d2-ada6-57fd8a6b3eb1"
      },
      "outputs": [
        {
          "output_type": "stream",
          "name": "stdout",
          "text": [
            "Requirement already satisfied: stackview==0.16.0 in /usr/local/lib/python3.11/dist-packages (0.16.0)\n",
            "Requirement already satisfied: ipycanvas==0.11 in /usr/local/lib/python3.11/dist-packages (0.11.0)\n",
            "Requirement already satisfied: numcodecs in /usr/local/lib/python3.11/dist-packages (0.16.2)\n",
            "Requirement already satisfied: imagecodecs in /usr/local/lib/python3.11/dist-packages (2025.8.2)\n",
            "Requirement already satisfied: tifffile in /usr/local/lib/python3.11/dist-packages (2025.6.11)\n",
            "Requirement already satisfied: numpy!=1.19.4 in /usr/local/lib/python3.11/dist-packages (from stackview==0.16.0) (2.0.2)\n",
            "Requirement already satisfied: ipywidgets in /usr/local/lib/python3.11/dist-packages (from stackview==0.16.0) (7.7.1)\n",
            "Requirement already satisfied: scikit-image in /usr/local/lib/python3.11/dist-packages (from stackview==0.16.0) (0.25.2)\n",
            "Requirement already satisfied: ipyevents in /usr/local/lib/python3.11/dist-packages (from stackview==0.16.0) (2.0.2)\n",
            "Requirement already satisfied: toolz in /usr/local/lib/python3.11/dist-packages (from stackview==0.16.0) (0.12.1)\n",
            "Requirement already satisfied: matplotlib in /usr/local/lib/python3.11/dist-packages (from stackview==0.16.0) (3.10.0)\n",
            "Requirement already satisfied: ipykernel in /usr/local/lib/python3.11/dist-packages (from stackview==0.16.0) (6.17.1)\n",
            "Requirement already satisfied: imageio in /usr/local/lib/python3.11/dist-packages (from stackview==0.16.0) (2.37.0)\n",
            "Requirement already satisfied: ipympl in /usr/local/lib/python3.11/dist-packages (from stackview==0.16.0) (0.9.7)\n",
            "Requirement already satisfied: wordcloud in /usr/local/lib/python3.11/dist-packages (from stackview==0.16.0) (1.9.4)\n",
            "Requirement already satisfied: pillow>=6.0 in /usr/local/lib/python3.11/dist-packages (from ipycanvas==0.11) (11.3.0)\n",
            "Requirement already satisfied: typing_extensions in /usr/local/lib/python3.11/dist-packages (from numcodecs) (4.14.1)\n",
            "Requirement already satisfied: ipython-genutils~=0.2.0 in /usr/local/lib/python3.11/dist-packages (from ipywidgets->stackview==0.16.0) (0.2.0)\n",
            "Requirement already satisfied: traitlets>=4.3.1 in /usr/local/lib/python3.11/dist-packages (from ipywidgets->stackview==0.16.0) (5.7.1)\n",
            "Requirement already satisfied: widgetsnbextension~=3.6.0 in /usr/local/lib/python3.11/dist-packages (from ipywidgets->stackview==0.16.0) (3.6.10)\n",
            "Requirement already satisfied: ipython>=4.0.0 in /usr/local/lib/python3.11/dist-packages (from ipywidgets->stackview==0.16.0) (7.34.0)\n",
            "Requirement already satisfied: jupyterlab-widgets>=1.0.0 in /usr/local/lib/python3.11/dist-packages (from ipywidgets->stackview==0.16.0) (3.0.15)\n",
            "Requirement already satisfied: debugpy>=1.0 in /usr/local/lib/python3.11/dist-packages (from ipykernel->stackview==0.16.0) (1.8.15)\n",
            "Requirement already satisfied: jupyter-client>=6.1.12 in /usr/local/lib/python3.11/dist-packages (from ipykernel->stackview==0.16.0) (6.1.12)\n",
            "Requirement already satisfied: matplotlib-inline>=0.1 in /usr/local/lib/python3.11/dist-packages (from ipykernel->stackview==0.16.0) (0.1.7)\n",
            "Requirement already satisfied: nest-asyncio in /usr/local/lib/python3.11/dist-packages (from ipykernel->stackview==0.16.0) (1.6.0)\n",
            "Requirement already satisfied: packaging in /usr/local/lib/python3.11/dist-packages (from ipykernel->stackview==0.16.0) (25.0)\n",
            "Requirement already satisfied: psutil in /usr/local/lib/python3.11/dist-packages (from ipykernel->stackview==0.16.0) (5.9.5)\n",
            "Requirement already satisfied: pyzmq>=17 in /usr/local/lib/python3.11/dist-packages (from ipykernel->stackview==0.16.0) (26.2.1)\n",
            "Requirement already satisfied: tornado>=6.1 in /usr/local/lib/python3.11/dist-packages (from ipykernel->stackview==0.16.0) (6.4.2)\n",
            "Requirement already satisfied: contourpy>=1.0.1 in /usr/local/lib/python3.11/dist-packages (from matplotlib->stackview==0.16.0) (1.3.3)\n",
            "Requirement already satisfied: cycler>=0.10 in /usr/local/lib/python3.11/dist-packages (from matplotlib->stackview==0.16.0) (0.12.1)\n",
            "Requirement already satisfied: fonttools>=4.22.0 in /usr/local/lib/python3.11/dist-packages (from matplotlib->stackview==0.16.0) (4.59.0)\n",
            "Requirement already satisfied: kiwisolver>=1.3.1 in /usr/local/lib/python3.11/dist-packages (from matplotlib->stackview==0.16.0) (1.4.9)\n",
            "Requirement already satisfied: pyparsing>=2.3.1 in /usr/local/lib/python3.11/dist-packages (from matplotlib->stackview==0.16.0) (3.2.3)\n",
            "Requirement already satisfied: python-dateutil>=2.7 in /usr/local/lib/python3.11/dist-packages (from matplotlib->stackview==0.16.0) (2.9.0.post0)\n",
            "Requirement already satisfied: scipy>=1.11.4 in /usr/local/lib/python3.11/dist-packages (from scikit-image->stackview==0.16.0) (1.16.1)\n",
            "Requirement already satisfied: networkx>=3.0 in /usr/local/lib/python3.11/dist-packages (from scikit-image->stackview==0.16.0) (3.5)\n",
            "Requirement already satisfied: lazy-loader>=0.4 in /usr/local/lib/python3.11/dist-packages (from scikit-image->stackview==0.16.0) (0.4)\n",
            "\u001b[31mERROR: Operation cancelled by user\u001b[0m\u001b[31m\n",
            "\u001b[0m"
          ]
        },
        {
          "output_type": "error",
          "ename": "KeyboardInterrupt",
          "evalue": "",
          "traceback": [
            "\u001b[0;31m---------------------------------------------------------------------------\u001b[0m",
            "\u001b[0;31mKeyboardInterrupt\u001b[0m                         Traceback (most recent call last)",
            "\u001b[0;32m/tmp/ipython-input-327833741.py\u001b[0m in \u001b[0;36m<cell line: 0>\u001b[0;34m()\u001b[0m\n\u001b[1;32m      1\u001b[0m \u001b[0;31m# install pacakges for loading and viewing image data in colab\u001b[0m\u001b[0;34m\u001b[0m\u001b[0;34m\u001b[0m\u001b[0m\n\u001b[0;32m----> 2\u001b[0;31m \u001b[0mget_ipython\u001b[0m\u001b[0;34m(\u001b[0m\u001b[0;34m)\u001b[0m\u001b[0;34m.\u001b[0m\u001b[0msystem\u001b[0m\u001b[0;34m(\u001b[0m\u001b[0;34m'pip install stackview==0.16.0 ipycanvas==0.11 numcodecs imagecodecs tifffile'\u001b[0m\u001b[0;34m)\u001b[0m\u001b[0;34m\u001b[0m\u001b[0;34m\u001b[0m\u001b[0m\n\u001b[0m",
            "\u001b[0;32m/usr/local/lib/python3.11/dist-packages/google/colab/_shell.py\u001b[0m in \u001b[0;36msystem\u001b[0;34m(self, *args, **kwargs)\u001b[0m\n\u001b[1;32m    150\u001b[0m \u001b[0;34m\u001b[0m\u001b[0m\n\u001b[1;32m    151\u001b[0m     \u001b[0;32mif\u001b[0m \u001b[0mpip_warn\u001b[0m\u001b[0;34m:\u001b[0m\u001b[0;34m\u001b[0m\u001b[0;34m\u001b[0m\u001b[0m\n\u001b[0;32m--> 152\u001b[0;31m       \u001b[0m_pip\u001b[0m\u001b[0;34m.\u001b[0m\u001b[0mprint_previous_import_warning\u001b[0m\u001b[0;34m(\u001b[0m\u001b[0moutput\u001b[0m\u001b[0;34m)\u001b[0m\u001b[0;34m\u001b[0m\u001b[0;34m\u001b[0m\u001b[0m\n\u001b[0m\u001b[1;32m    153\u001b[0m \u001b[0;34m\u001b[0m\u001b[0m\n\u001b[1;32m    154\u001b[0m   \u001b[0;32mdef\u001b[0m \u001b[0m_send_error\u001b[0m\u001b[0;34m(\u001b[0m\u001b[0mself\u001b[0m\u001b[0;34m,\u001b[0m \u001b[0mexc_content\u001b[0m\u001b[0;34m)\u001b[0m\u001b[0;34m:\u001b[0m\u001b[0;34m\u001b[0m\u001b[0;34m\u001b[0m\u001b[0m\n",
            "\u001b[0;32m/usr/local/lib/python3.11/dist-packages/google/colab/_pip.py\u001b[0m in \u001b[0;36mprint_previous_import_warning\u001b[0;34m(output)\u001b[0m\n\u001b[1;32m     54\u001b[0m \u001b[0;32mdef\u001b[0m \u001b[0mprint_previous_import_warning\u001b[0m\u001b[0;34m(\u001b[0m\u001b[0moutput\u001b[0m\u001b[0;34m)\u001b[0m\u001b[0;34m:\u001b[0m\u001b[0;34m\u001b[0m\u001b[0;34m\u001b[0m\u001b[0m\n\u001b[1;32m     55\u001b[0m   \u001b[0;34m\"\"\"Prints a warning about previously imported packages.\"\"\"\u001b[0m\u001b[0;34m\u001b[0m\u001b[0;34m\u001b[0m\u001b[0m\n\u001b[0;32m---> 56\u001b[0;31m   \u001b[0mpackages\u001b[0m \u001b[0;34m=\u001b[0m \u001b[0m_previously_imported_packages\u001b[0m\u001b[0;34m(\u001b[0m\u001b[0moutput\u001b[0m\u001b[0;34m)\u001b[0m\u001b[0;34m\u001b[0m\u001b[0;34m\u001b[0m\u001b[0m\n\u001b[0m\u001b[1;32m     57\u001b[0m   \u001b[0;32mif\u001b[0m \u001b[0mpackages\u001b[0m\u001b[0;34m:\u001b[0m\u001b[0;34m\u001b[0m\u001b[0;34m\u001b[0m\u001b[0m\n\u001b[1;32m     58\u001b[0m     \u001b[0;31m# display a list of packages using the colab-display-data mimetype, which\u001b[0m\u001b[0;34m\u001b[0m\u001b[0;34m\u001b[0m\u001b[0m\n",
            "\u001b[0;32m/usr/local/lib/python3.11/dist-packages/google/colab/_pip.py\u001b[0m in \u001b[0;36m_previously_imported_packages\u001b[0;34m(pip_output)\u001b[0m\n\u001b[1;32m     48\u001b[0m \u001b[0;32mdef\u001b[0m \u001b[0m_previously_imported_packages\u001b[0m\u001b[0;34m(\u001b[0m\u001b[0mpip_output\u001b[0m\u001b[0;34m)\u001b[0m\u001b[0;34m:\u001b[0m\u001b[0;34m\u001b[0m\u001b[0;34m\u001b[0m\u001b[0m\n\u001b[1;32m     49\u001b[0m   \u001b[0;34m\"\"\"List all previously imported packages from a pip install.\"\"\"\u001b[0m\u001b[0;34m\u001b[0m\u001b[0;34m\u001b[0m\u001b[0m\n\u001b[0;32m---> 50\u001b[0;31m   \u001b[0minstalled\u001b[0m \u001b[0;34m=\u001b[0m \u001b[0mset\u001b[0m\u001b[0;34m(\u001b[0m\u001b[0m_extract_toplevel_packages\u001b[0m\u001b[0;34m(\u001b[0m\u001b[0mpip_output\u001b[0m\u001b[0;34m)\u001b[0m\u001b[0;34m)\u001b[0m\u001b[0;34m\u001b[0m\u001b[0;34m\u001b[0m\u001b[0m\n\u001b[0m\u001b[1;32m     51\u001b[0m   \u001b[0;32mreturn\u001b[0m \u001b[0msorted\u001b[0m\u001b[0;34m(\u001b[0m\u001b[0minstalled\u001b[0m\u001b[0;34m.\u001b[0m\u001b[0mintersection\u001b[0m\u001b[0;34m(\u001b[0m\u001b[0mset\u001b[0m\u001b[0;34m(\u001b[0m\u001b[0msys\u001b[0m\u001b[0;34m.\u001b[0m\u001b[0mmodules\u001b[0m\u001b[0;34m)\u001b[0m\u001b[0;34m)\u001b[0m\u001b[0;34m)\u001b[0m\u001b[0;34m\u001b[0m\u001b[0;34m\u001b[0m\u001b[0m\n\u001b[1;32m     52\u001b[0m \u001b[0;34m\u001b[0m\u001b[0m\n",
            "\u001b[0;32m/usr/local/lib/python3.11/dist-packages/google/colab/_pip.py\u001b[0m in \u001b[0;36m_extract_toplevel_packages\u001b[0;34m(pip_output)\u001b[0m\n\u001b[1;32m     37\u001b[0m   \u001b[0;34m\"\"\"Extract the list of toplevel packages associated with a pip install.\"\"\"\u001b[0m\u001b[0;34m\u001b[0m\u001b[0;34m\u001b[0m\u001b[0m\n\u001b[1;32m     38\u001b[0m   \u001b[0mtoplevel\u001b[0m \u001b[0;34m=\u001b[0m \u001b[0mcollections\u001b[0m\u001b[0;34m.\u001b[0m\u001b[0mdefaultdict\u001b[0m\u001b[0;34m(\u001b[0m\u001b[0mset\u001b[0m\u001b[0;34m)\u001b[0m\u001b[0;34m\u001b[0m\u001b[0;34m\u001b[0m\u001b[0m\n\u001b[0;32m---> 39\u001b[0;31m   \u001b[0;32mfor\u001b[0m \u001b[0mm\u001b[0m\u001b[0;34m,\u001b[0m \u001b[0mps\u001b[0m \u001b[0;32min\u001b[0m \u001b[0mimportlib\u001b[0m\u001b[0;34m.\u001b[0m\u001b[0mmetadata\u001b[0m\u001b[0;34m.\u001b[0m\u001b[0mpackages_distributions\u001b[0m\u001b[0;34m(\u001b[0m\u001b[0;34m)\u001b[0m\u001b[0;34m.\u001b[0m\u001b[0mitems\u001b[0m\u001b[0;34m(\u001b[0m\u001b[0;34m)\u001b[0m\u001b[0;34m:\u001b[0m\u001b[0;34m\u001b[0m\u001b[0;34m\u001b[0m\u001b[0m\n\u001b[0m\u001b[1;32m     40\u001b[0m     \u001b[0;32mfor\u001b[0m \u001b[0mp\u001b[0m \u001b[0;32min\u001b[0m \u001b[0mps\u001b[0m\u001b[0;34m:\u001b[0m\u001b[0;34m\u001b[0m\u001b[0;34m\u001b[0m\u001b[0m\n\u001b[1;32m     41\u001b[0m       \u001b[0mtoplevel\u001b[0m\u001b[0;34m[\u001b[0m\u001b[0mp\u001b[0m\u001b[0;34m]\u001b[0m\u001b[0;34m.\u001b[0m\u001b[0madd\u001b[0m\u001b[0;34m(\u001b[0m\u001b[0mm\u001b[0m\u001b[0;34m)\u001b[0m\u001b[0;34m\u001b[0m\u001b[0;34m\u001b[0m\u001b[0m\n",
            "\u001b[0;32m/usr/lib/python3.11/importlib/metadata/__init__.py\u001b[0m in \u001b[0;36mpackages_distributions\u001b[0;34m()\u001b[0m\n\u001b[1;32m   1074\u001b[0m     \u001b[0;32mfor\u001b[0m \u001b[0mdist\u001b[0m \u001b[0;32min\u001b[0m \u001b[0mdistributions\u001b[0m\u001b[0;34m(\u001b[0m\u001b[0;34m)\u001b[0m\u001b[0;34m:\u001b[0m\u001b[0;34m\u001b[0m\u001b[0;34m\u001b[0m\u001b[0m\n\u001b[1;32m   1075\u001b[0m         \u001b[0;32mfor\u001b[0m \u001b[0mpkg\u001b[0m \u001b[0;32min\u001b[0m \u001b[0m_top_level_declared\u001b[0m\u001b[0;34m(\u001b[0m\u001b[0mdist\u001b[0m\u001b[0;34m)\u001b[0m \u001b[0;32mor\u001b[0m \u001b[0m_top_level_inferred\u001b[0m\u001b[0;34m(\u001b[0m\u001b[0mdist\u001b[0m\u001b[0;34m)\u001b[0m\u001b[0;34m:\u001b[0m\u001b[0;34m\u001b[0m\u001b[0;34m\u001b[0m\u001b[0m\n\u001b[0;32m-> 1076\u001b[0;31m             \u001b[0mpkg_to_dist\u001b[0m\u001b[0;34m[\u001b[0m\u001b[0mpkg\u001b[0m\u001b[0;34m]\u001b[0m\u001b[0;34m.\u001b[0m\u001b[0mappend\u001b[0m\u001b[0;34m(\u001b[0m\u001b[0mdist\u001b[0m\u001b[0;34m.\u001b[0m\u001b[0mmetadata\u001b[0m\u001b[0;34m[\u001b[0m\u001b[0;34m'Name'\u001b[0m\u001b[0;34m]\u001b[0m\u001b[0;34m)\u001b[0m\u001b[0;34m\u001b[0m\u001b[0;34m\u001b[0m\u001b[0m\n\u001b[0m\u001b[1;32m   1077\u001b[0m     \u001b[0;32mreturn\u001b[0m \u001b[0mdict\u001b[0m\u001b[0;34m(\u001b[0m\u001b[0mpkg_to_dist\u001b[0m\u001b[0;34m)\u001b[0m\u001b[0;34m\u001b[0m\u001b[0;34m\u001b[0m\u001b[0m\n\u001b[1;32m   1078\u001b[0m \u001b[0;34m\u001b[0m\u001b[0m\n",
            "\u001b[0;32m/usr/lib/python3.11/importlib/metadata/__init__.py\u001b[0m in \u001b[0;36mmetadata\u001b[0;34m(self)\u001b[0m\n\u001b[1;32m    608\u001b[0m         \"\"\"\n\u001b[1;32m    609\u001b[0m         text = (\n\u001b[0;32m--> 610\u001b[0;31m             \u001b[0mself\u001b[0m\u001b[0;34m.\u001b[0m\u001b[0mread_text\u001b[0m\u001b[0;34m(\u001b[0m\u001b[0;34m'METADATA'\u001b[0m\u001b[0;34m)\u001b[0m\u001b[0;34m\u001b[0m\u001b[0;34m\u001b[0m\u001b[0m\n\u001b[0m\u001b[1;32m    611\u001b[0m             \u001b[0;32mor\u001b[0m \u001b[0mself\u001b[0m\u001b[0;34m.\u001b[0m\u001b[0mread_text\u001b[0m\u001b[0;34m(\u001b[0m\u001b[0;34m'PKG-INFO'\u001b[0m\u001b[0;34m)\u001b[0m\u001b[0;34m\u001b[0m\u001b[0;34m\u001b[0m\u001b[0m\n\u001b[1;32m    612\u001b[0m             \u001b[0;31m# This last clause is here to support old egg-info files.  Its\u001b[0m\u001b[0;34m\u001b[0m\u001b[0;34m\u001b[0m\u001b[0m\n",
            "\u001b[0;32m/usr/lib/python3.11/importlib/metadata/__init__.py\u001b[0m in \u001b[0;36mread_text\u001b[0;34m(self, filename)\u001b[0m\n\u001b[1;32m    937\u001b[0m             \u001b[0mPermissionError\u001b[0m\u001b[0;34m,\u001b[0m\u001b[0;34m\u001b[0m\u001b[0;34m\u001b[0m\u001b[0m\n\u001b[1;32m    938\u001b[0m         ):\n\u001b[0;32m--> 939\u001b[0;31m             \u001b[0;32mreturn\u001b[0m \u001b[0mself\u001b[0m\u001b[0;34m.\u001b[0m\u001b[0m_path\u001b[0m\u001b[0;34m.\u001b[0m\u001b[0mjoinpath\u001b[0m\u001b[0;34m(\u001b[0m\u001b[0mfilename\u001b[0m\u001b[0;34m)\u001b[0m\u001b[0;34m.\u001b[0m\u001b[0mread_text\u001b[0m\u001b[0;34m(\u001b[0m\u001b[0mencoding\u001b[0m\u001b[0;34m=\u001b[0m\u001b[0;34m'utf-8'\u001b[0m\u001b[0;34m)\u001b[0m\u001b[0;34m\u001b[0m\u001b[0;34m\u001b[0m\u001b[0m\n\u001b[0m\u001b[1;32m    940\u001b[0m \u001b[0;34m\u001b[0m\u001b[0m\n\u001b[1;32m    941\u001b[0m     \u001b[0mread_text\u001b[0m\u001b[0;34m.\u001b[0m\u001b[0m__doc__\u001b[0m \u001b[0;34m=\u001b[0m \u001b[0mDistribution\u001b[0m\u001b[0;34m.\u001b[0m\u001b[0mread_text\u001b[0m\u001b[0;34m.\u001b[0m\u001b[0m__doc__\u001b[0m\u001b[0;34m\u001b[0m\u001b[0;34m\u001b[0m\u001b[0m\n",
            "\u001b[0;32m/usr/lib/python3.11/pathlib.py\u001b[0m in \u001b[0;36mread_text\u001b[0;34m(self, encoding, errors)\u001b[0m\n\u001b[1;32m   1056\u001b[0m         \"\"\"\n\u001b[1;32m   1057\u001b[0m         \u001b[0mencoding\u001b[0m \u001b[0;34m=\u001b[0m \u001b[0mio\u001b[0m\u001b[0;34m.\u001b[0m\u001b[0mtext_encoding\u001b[0m\u001b[0;34m(\u001b[0m\u001b[0mencoding\u001b[0m\u001b[0;34m)\u001b[0m\u001b[0;34m\u001b[0m\u001b[0;34m\u001b[0m\u001b[0m\n\u001b[0;32m-> 1058\u001b[0;31m         \u001b[0;32mwith\u001b[0m \u001b[0mself\u001b[0m\u001b[0;34m.\u001b[0m\u001b[0mopen\u001b[0m\u001b[0;34m(\u001b[0m\u001b[0mmode\u001b[0m\u001b[0;34m=\u001b[0m\u001b[0;34m'r'\u001b[0m\u001b[0;34m,\u001b[0m \u001b[0mencoding\u001b[0m\u001b[0;34m=\u001b[0m\u001b[0mencoding\u001b[0m\u001b[0;34m,\u001b[0m \u001b[0merrors\u001b[0m\u001b[0;34m=\u001b[0m\u001b[0merrors\u001b[0m\u001b[0;34m)\u001b[0m \u001b[0;32mas\u001b[0m \u001b[0mf\u001b[0m\u001b[0;34m:\u001b[0m\u001b[0;34m\u001b[0m\u001b[0;34m\u001b[0m\u001b[0m\n\u001b[0m\u001b[1;32m   1059\u001b[0m             \u001b[0;32mreturn\u001b[0m \u001b[0mf\u001b[0m\u001b[0;34m.\u001b[0m\u001b[0mread\u001b[0m\u001b[0;34m(\u001b[0m\u001b[0;34m)\u001b[0m\u001b[0;34m\u001b[0m\u001b[0;34m\u001b[0m\u001b[0m\n\u001b[1;32m   1060\u001b[0m \u001b[0;34m\u001b[0m\u001b[0m\n",
            "\u001b[0;32m/usr/lib/python3.11/pathlib.py\u001b[0m in \u001b[0;36mopen\u001b[0;34m(self, mode, buffering, encoding, errors, newline)\u001b[0m\n\u001b[1;32m   1042\u001b[0m         \u001b[0;32mif\u001b[0m \u001b[0;34m\"b\"\u001b[0m \u001b[0;32mnot\u001b[0m \u001b[0;32min\u001b[0m \u001b[0mmode\u001b[0m\u001b[0;34m:\u001b[0m\u001b[0;34m\u001b[0m\u001b[0;34m\u001b[0m\u001b[0m\n\u001b[1;32m   1043\u001b[0m             \u001b[0mencoding\u001b[0m \u001b[0;34m=\u001b[0m \u001b[0mio\u001b[0m\u001b[0;34m.\u001b[0m\u001b[0mtext_encoding\u001b[0m\u001b[0;34m(\u001b[0m\u001b[0mencoding\u001b[0m\u001b[0;34m)\u001b[0m\u001b[0;34m\u001b[0m\u001b[0;34m\u001b[0m\u001b[0m\n\u001b[0;32m-> 1044\u001b[0;31m         \u001b[0;32mreturn\u001b[0m \u001b[0mio\u001b[0m\u001b[0;34m.\u001b[0m\u001b[0mopen\u001b[0m\u001b[0;34m(\u001b[0m\u001b[0mself\u001b[0m\u001b[0;34m,\u001b[0m \u001b[0mmode\u001b[0m\u001b[0;34m,\u001b[0m \u001b[0mbuffering\u001b[0m\u001b[0;34m,\u001b[0m \u001b[0mencoding\u001b[0m\u001b[0;34m,\u001b[0m \u001b[0merrors\u001b[0m\u001b[0;34m,\u001b[0m \u001b[0mnewline\u001b[0m\u001b[0;34m)\u001b[0m\u001b[0;34m\u001b[0m\u001b[0;34m\u001b[0m\u001b[0m\n\u001b[0m\u001b[1;32m   1045\u001b[0m \u001b[0;34m\u001b[0m\u001b[0m\n\u001b[1;32m   1046\u001b[0m     \u001b[0;32mdef\u001b[0m \u001b[0mread_bytes\u001b[0m\u001b[0;34m(\u001b[0m\u001b[0mself\u001b[0m\u001b[0;34m)\u001b[0m\u001b[0;34m:\u001b[0m\u001b[0;34m\u001b[0m\u001b[0;34m\u001b[0m\u001b[0m\n",
            "\u001b[0;32m/usr/lib/python3.11/codecs.py\u001b[0m in \u001b[0;36m__init__\u001b[0;34m(self, errors)\u001b[0m\n",
            "\u001b[0;31mKeyboardInterrupt\u001b[0m: "
          ]
        }
      ],
      "source": [
        "# install pacakges for loading and viewing image data in colab\n",
        "!pip install stackview==0.16.0 ipycanvas==0.11 numcodecs imagecodecs tifffile"
      ]
    },
    {
      "cell_type": "code",
      "execution_count": 10,
      "id": "b00c9d64",
      "metadata": {
        "id": "b00c9d64",
        "vscode": {
          "languageId": "plaintext"
        }
      },
      "outputs": [],
      "source": [
        "# import packages for loading and viewing image data in colab\n",
        "from google.colab import output\n",
        "output.enable_custom_widget_manager()\n",
        "\n",
        "from pathlib import Path\n",
        "import tifffile\n",
        "import numpy as np\n",
        "import stackview"
      ]
    },
    {
      "cell_type": "markdown",
      "id": "d9f5d121",
      "metadata": {
        "id": "d9f5d121"
      },
      "source": [
        "## Raw data\n",
        "\n",
        "We will first look at the raw data, which is acquired with [phase-contrast microscopy](https://www.ibiology.org/talks/phase-contrast-microscopy/) and [fluorescence microscopy](https://www.ibiology.org/talks/fluorescence-microscopy/). Phase-contrast microscopy is method that enchances the visibility of biological structures by manipulating the \"phase\" of the light passing through the sample. In this method, the bacteria cell bodies are darker than the surrounding environment. Fluorescence microscopy is a method that excites and collects light from fluorophores that are present in the bacteria. In this method, the bacteria cell bodies are brighter than the surrounding environment."
      ]
    },
    {
      "cell_type": "code",
      "execution_count": 11,
      "id": "26849e73",
      "metadata": {
        "id": "26849e73",
        "vscode": {
          "languageId": "plaintext"
        },
        "colab": {
          "base_uri": "https://localhost:8080/",
          "height": 1000,
          "referenced_widgets": [
            "a44b4ae29166436880da3db6138ac733",
            "1bd798091f754ddbabdb8557c3736338",
            "4c0735971461477ebfaade8475a690c4",
            "841f60b024ca4e6486416edec1c045f5",
            "56038e84d4cb4feb97d4d03a1760abeb",
            "01636b516ddd43eab9c9e3891d2bbc5e",
            "5b2761de8f574e31aec2180eb423c144",
            "597b942f66dd43878fd53acc29a7cc02",
            "d3180e70f17648c9947c0e42a0d20aa5",
            "920c637ec9b641d0910abcf74e882eb3",
            "ace9f3fe435544058063068f29eccc55",
            "fdf5a7733fe34f0592460f7ce6ea3a05",
            "b77ff375a24b4b34ae2ad8d5de4a42af",
            "d53e6acb1c684083b47e6f29b66f4382",
            "ebf9302c8bc94572b9157642ed1512fe",
            "079ec013745a4fe286e555f26771cae4",
            "6791d0f4a1f242639cdb1c744663d8e3",
            "bd3478bea88742ad9e97129e4e52fd8e",
            "7146de007fa247f08bc9ad6fb95b95d3",
            "2799e9dd37974088a7b80567b8648177",
            "32f96dd1cfd5462995fe2178e400edae",
            "8eb73abc63cd42c3a9637f3cd109ebfe",
            "478e6c8940f247de8c8bf3dd47d21152",
            "c34b57365abf45a3bc885cd2ee74d346",
            "e4300493ffa244e19c35360b884f3373",
            "5cf9e977b30747188be8aa78da4472ac",
            "79df305dbc1a40cdaeb275f7fe809218"
          ]
        },
        "outputId": "171f3949-43ed-4eff-bef6-934750b160ec"
      },
      "outputs": [
        {
          "output_type": "display_data",
          "data": {
            "text/plain": [
              "HBox(children=(VBox(children=(VBox(children=(HBox(children=(VBox(children=(ImageWidget(height=1024, width=1344…"
            ],
            "application/vnd.jupyter.widget-view+json": {
              "version_major": 2,
              "version_minor": 0,
              "model_id": "a44b4ae29166436880da3db6138ac733"
            }
          },
          "metadata": {
            "application/vnd.jupyter.widget-view+json": {
              "colab": {
                "custom_widget_manager": {
                  "url": "https://ssl.gstatic.com/colaboratory-static/widgets/colab-cdn-widget-manager/2b70e893a8ba7c0f/manager.min.js"
                }
              }
            }
          }
        }
      ],
      "source": [
        "# load and view raw phase and fluorescence image data\n",
        "\n",
        "raw_files = sorted(Path(\"/content/cbpSS2025/data/\").glob(\"*.tif*\"))\n",
        "raw_data = []\n",
        "for raw_file in raw_files:\n",
        "  raw_data.append(tifffile.imread(raw_file))\n",
        "raw_data = np.asarray(raw_data,dtype=np.uint16)\n",
        "raw_data = np.squeeze(raw_data[:,0,:,:]) # remove GFP channel\n",
        "\n",
        "stackview.slice(raw_data)"
      ]
    },
    {
      "cell_type": "markdown",
      "id": "7e08b998",
      "metadata": {
        "id": "7e08b998"
      },
      "source": [
        "## Segmented phase-contrast data\n",
        "\n",
        "The phase-contrast data has been passed through [cellpose](https://github.com/MouseLand/cellpose), a deep-learning Python package that excels at automatically finding cells. You can try cellpose out online for free [here](https://huggingface.co/spaces/mouseland/cellpose).\n",
        "\n",
        "Starting from raw data, cellpose automatically finds unique cells and assigns all pixels within each cell a unique integer indentifier. This is called a mask image because it creates a unique mask for each pixel. A **critical** note here is that each image is segmented independently, so the mask identifier resets in each image. That means we can use this data to count the number of cells present at each time point."
      ]
    },
    {
      "cell_type": "code",
      "execution_count": 16,
      "id": "4e0f7081",
      "metadata": {
        "id": "4e0f7081",
        "vscode": {
          "languageId": "plaintext"
        },
        "colab": {
          "base_uri": "https://localhost:8080/",
          "height": 1000,
          "referenced_widgets": [
            "48dd652f40bf4a2fb114f38f6f24666d",
            "54593835184a4696b27d1e7c4d7f34b6",
            "8910edba8489422c885b06d9844f503e",
            "c8bac3b7d8974016b1b5f0c1f332c88e",
            "859df56b1313422a84bc667357af7479",
            "0c30e5b393c5493c9edee796f6286ed5",
            "eeacdaf3c3004cc08d44ca38f33e7681",
            "a21f5ea631f34529ab470c0cc1868a68",
            "f4c26038ac114660b126275281c1d924",
            "8078bd85c993479eaa18f43de02ca670",
            "2945e055cb8648b1a9915a20dd40b2f8",
            "bbb92b3cae2b4d2eb2f17920ecaf85f2",
            "e521a8bfd72f4969b35d9304511d23df",
            "3497a880d41a47ebbf86ec6e7593ccda",
            "d744c6f2e25d4958bc7aa28735452bc2",
            "3ea10c356aea4a4088033e8b062ba957",
            "5d3d3cd33bad43518a1040749f04f6ee",
            "c8c237bd9d34434ab69d00b7189127fa",
            "3d3f57ec159b4e5e8ed13013bcf733c1",
            "e99a30e13cf546ad89d16a736afae8a8",
            "cdeede2e24d04a8e932440f55246248b",
            "745a64653f84419083b01c08df41109c",
            "2a23a576b91f42d3aee806bcf2044f62",
            "7d332e2992e549ae9b6a8edaa961c92b",
            "fa8590bc9e1a44cbb13392c9b4bcec6d",
            "a015e35680414180a1b8b6b78d3f6138",
            "68447daea5774232aafd7c54cd7eb548"
          ]
        },
        "outputId": "a0d72faa-7e53-4b46-fbfc-573bd792db61"
      },
      "outputs": [
        {
          "output_type": "display_data",
          "data": {
            "text/plain": [
              "HBox(children=(VBox(children=(VBox(children=(HBox(children=(VBox(children=(ImageWidget(height=1024, width=1344…"
            ],
            "application/vnd.jupyter.widget-view+json": {
              "version_major": 2,
              "version_minor": 0,
              "model_id": "48dd652f40bf4a2fb114f38f6f24666d"
            }
          },
          "metadata": {
            "application/vnd.jupyter.widget-view+json": {
              "colab": {
                "custom_widget_manager": {
                  "url": "https://ssl.gstatic.com/colaboratory-static/widgets/colab-cdn-widget-manager/2b70e893a8ba7c0f/manager.min.js"
                }
              }
            }
          }
        }
      ],
      "source": [
        "# load and view segmented phase-contrast image data\n",
        "\n",
        "mask_files = sorted(Path(\"/content/cbpSS2025/masks/\").glob(\"*.tif*\"))\n",
        "mask_data = []\n",
        "for mask_file in mask_files:\n",
        "  mask_data.append(tifffile.imread(mask_file))\n",
        "mask_data = np.asarray(mask_data,dtype=np.uint16)\n",
        "\n",
        "stackview.slice(mask_data)"
      ]
    },
    {
      "cell_type": "markdown",
      "id": "e15b5458",
      "metadata": {
        "id": "e15b5458"
      },
      "source": [
        "## Tracked phase-contrast data\n",
        "\n",
        "While the segmented data is helpful to easily get the number of cells, we could extract more information from this simple experiment by quantifying the timing for cell divisions and cell lineages. To do this, we need the identifiers to stay the same for each cell and then mark when a cell division occurs. To do this, we can track each cell and it's daughter cells using [trackastra](https://github.com/weigertlab/trackastra), a deep-learning Python package that excels at tracking cells.\n",
        "\n",
        "Starting from raw data and the segmentation masks generated by cellpose, trackastra automatically tracks cells across time and tracks cell division. This small changes in how the data is processed will allow us to later extract the time between cell division for our bacteria colony!"
      ]
    },
    {
      "cell_type": "code",
      "execution_count": 18,
      "id": "6129fc9a",
      "metadata": {
        "id": "6129fc9a",
        "vscode": {
          "languageId": "plaintext"
        },
        "colab": {
          "base_uri": "https://localhost:8080/",
          "height": 1000,
          "referenced_widgets": [
            "2ab99de85120455d9d21cd711d70e8dd",
            "185f8ad5e2a64a9681b2cffe36e8b643",
            "fda68e606f314b479e7da970c3730b3e",
            "9db8f0ceb37a482ba820556a17d85947",
            "2a98a6ba01d8400d97175c0decd283f3",
            "7a65924207fa4d84a6dfb2de96e9a58c",
            "cdaae4144d814669862f6a6316bee8f5",
            "8b0ebf0c13004f3f832725f8cede90d0",
            "5c7ab1c906ef45ff8e2db34691548501",
            "16fb29f50b0d4387bb3db3194eb5a6be",
            "aa9a2960a47b443d82be7a7cd44b6566",
            "cb06c366462c43759635336a3f490f7d",
            "5f95aa343d12490185cb3af851b0d401",
            "46dbb8cee9534e38b4b629a1d39bd5b8",
            "14e612a8c59340b9941861a2299bfc31",
            "80835e0265d14a71a15b8f72608c8642",
            "d099ad80344c4fecb5097d618b9edd2b",
            "aef51328f52c4176947752171b2a42dd",
            "99c9b0f60e514656898b0dc81c3427d2",
            "a65d5d1d3cae4620a2243f8e226aba10",
            "7e96254111984fe7b3a80fb3f86bdce9",
            "ced040f03db541b6bbf370a32b8689b6",
            "b37147974dfe41d9a777eeb6c5a3333a",
            "869c829f22ef4e1780942e836a3dba4e",
            "17f962a098af46b5ae0cd346b5f945a7",
            "cd765ef86e9b4c5fa45c2bd8edfe0d27",
            "5dda355ac0984fd79f3adda0f9c6f615"
          ]
        },
        "outputId": "a1729e40-a7dd-4942-8d1e-c0bc04449e2a"
      },
      "outputs": [
        {
          "output_type": "display_data",
          "data": {
            "text/plain": [
              "HBox(children=(VBox(children=(VBox(children=(HBox(children=(VBox(children=(ImageWidget(height=1024, width=1344…"
            ],
            "application/vnd.jupyter.widget-view+json": {
              "version_major": 2,
              "version_minor": 0,
              "model_id": "2ab99de85120455d9d21cd711d70e8dd"
            }
          },
          "metadata": {
            "application/vnd.jupyter.widget-view+json": {
              "colab": {
                "custom_widget_manager": {
                  "url": "https://ssl.gstatic.com/colaboratory-static/widgets/colab-cdn-widget-manager/2b70e893a8ba7c0f/manager.min.js"
                }
              }
            }
          }
        }
      ],
      "source": [
        "# load and view segmented and tracked phase-contrast image data\n",
        "\n",
        "tracked_files = sorted(Path(\"/content/cbpSS2025/result/\").glob(\"*.tif*\"))\n",
        "tracked_data = []\n",
        "for tracked_file in tracked_files:\n",
        "  tracked_data.append(tifffile.imread(tracked_file))\n",
        "tracked_data = np.asarray(tracked_data,dtype=np.uint16)\n",
        "tracked_data = tracked_data[0:20,:,:] # remove spurious final timepoint\n",
        "\n",
        "stackview.slice(tracked_data)"
      ]
    },
    {
      "cell_type": "markdown",
      "id": "jYdhzZGzvR0Y",
      "metadata": {
        "id": "jYdhzZGzvR0Y"
      },
      "source": [
        "### Extracting cell division times from tracked microscopy data"
      ]
    },
    {
      "cell_type": "code",
      "execution_count": 14,
      "id": "DPooL1eevWTW",
      "metadata": {
        "id": "DPooL1eevWTW"
      },
      "outputs": [],
      "source": [
        "def division_time_histogram(\n",
        "    filename: str | Path,\n",
        "    timestep_min: float,\n",
        "    bins: int | str = \"auto\",\n",
        ") -> tuple[np.ndarray, np.ndarray]:\n",
        "  \"\"\"Compute a histogram of cell division times from a TrackAstra result file.\n",
        "\n",
        "  The input file must have 4 whitespace-separated integer columns per line:\n",
        "  L B E P\n",
        "    - L: track label (positive int)\n",
        "    - B: birth frame index (0-based)\n",
        "    - E: end frame index (0-based)\n",
        "    - P: parent label (0 if no parent)\n",
        "\n",
        "  A division event is defined as any parent label with >= 2 daughters.\n",
        "  The division frame is the mode (most frequent) of the daughters' birth\n",
        "  frames for that parent; ties resolve to the smallest such frame. Division\n",
        "  time (minutes) = (division_frame - parent_birth_frame) * timestep_min.\n",
        "\n",
        "  Parameters\n",
        "  ----------\n",
        "  filename\n",
        "      Path to the TrackAstra track file.\n",
        "  timestep_min\n",
        "      Minutes per frame (e.g., 5.0 for 5-minute intervals).\n",
        "  bins\n",
        "      Binning specification passed to ``np.histogram`` (default \"auto\").\n",
        "\n",
        "  Returns\n",
        "  -------\n",
        "  counts : np.ndarray, shape (n_bins,)\n",
        "      Histogram counts per bin.\n",
        "  bin_centers : np.ndarray, shape (n_bins,)\n",
        "      Bin center locations (minutes), suitable for plotting.\n",
        "\n",
        "  Notes\n",
        "  -----\n",
        "  - Lines with fewer than two daughters for a parent are ignored.\n",
        "  - Events with non-positive elapsed frames are ignored.\n",
        "\n",
        "  Examples\n",
        "  --------\n",
        "  >>> counts, centers = division_time_histogram(\"res_track.txt\", 5.0)\n",
        "  >>> import matplotlib.pyplot as plt\n",
        "  >>> plt.plot(centers, counts, marker=\"o\")\n",
        "  >>> plt.xlabel(\"Division time (min)\")\n",
        "  >>> plt.ylabel(\"Count\")\n",
        "  >>> plt.show()\n",
        "  \"\"\"\n",
        "  arr = np.loadtxt(filename, dtype=np.int64)\n",
        "  if arr.ndim != 2 or arr.shape[1] < 4:\n",
        "      raise ValueError(\"Track file must have 4 columns: L B E P.\")\n",
        "\n",
        "  labels = arr[:, 0]\n",
        "  births = arr[:, 1]\n",
        "  parents = arr[:, 3]\n",
        "\n",
        "  # Map: label -> birth frame\n",
        "  label_to_birth: dict[int, int] = {}\n",
        "  for lbl, b in zip(labels, births):\n",
        "      # If duplicated labels appear, keep the first B seen.\n",
        "      label_to_birth.setdefault(int(lbl), int(b))\n",
        "\n",
        "  # Map: parent_label -> list of row indices of daughters\n",
        "  daughters_by_parent: dict[int, list[int]] = {}\n",
        "  for idx, p in enumerate(parents):\n",
        "      if p != 0:\n",
        "          daughters_by_parent.setdefault(int(p), []).append(idx)\n",
        "\n",
        "  division_times_min: list[float] = []\n",
        "\n",
        "  for parent_lbl, idxs in daughters_by_parent.items():\n",
        "      if len(idxs) < 2:\n",
        "          continue\n",
        "      # Parent must exist in table (to have birth time)\n",
        "      parent_birth = label_to_birth.get(parent_lbl)\n",
        "      if parent_birth is None:\n",
        "          continue\n",
        "\n",
        "      daughter_birth_frames = births[idxs].astype(int)\n",
        "      # Mode of daughters' birth frames (tie -> smallest)\n",
        "      vals, cnts = np.unique(daughter_birth_frames, return_counts=True)\n",
        "      division_frame = int(vals[np.argmax(cnts)])\n",
        "      frames_elapsed = int(division_frame - parent_birth)\n",
        "      if frames_elapsed <= 0:\n",
        "          continue\n",
        "\n",
        "      division_times_min.append(frames_elapsed * float(timestep_min))\n",
        "\n",
        "  times = np.asarray(division_times_min, dtype=float)\n",
        "  if times.size == 0:\n",
        "      # No valid events\n",
        "      return np.array([], dtype=float), np.array([], dtype=float)\n",
        "\n",
        "  counts, bin_edges = np.histogram(times, bins=bins)\n",
        "  bin_centers = (bin_edges[:-1] + bin_edges[1:]) / 2.0\n",
        "  return counts.astype(float, copy=False), bin_centers\n",
        "\n",
        "\n",
        "division_times, bin_center = division_time_histogram(\n",
        "  filename = Path(\"/content/cbpSS2025/tracking_result.txt\"),\n",
        "  timestep_min = 5\n",
        ")"
      ]
    },
    {
      "cell_type": "markdown",
      "id": "sUOnMuvWyOiE",
      "metadata": {
        "id": "sUOnMuvWyOiE"
      },
      "source": [
        "### Visualize the cell division times"
      ]
    },
    {
      "cell_type": "code",
      "execution_count": 15,
      "id": "v1kFyGN-yQd9",
      "metadata": {
        "id": "v1kFyGN-yQd9",
        "colab": {
          "base_uri": "https://localhost:8080/",
          "height": 407
        },
        "outputId": "39b50790-e347-4673-84d2-22658572bc04"
      },
      "outputs": [
        {
          "output_type": "display_data",
          "data": {
            "text/plain": [
              "<Figure size 600x400 with 1 Axes>"
            ],
            "image/png": "[encoded data removed]"
          },
          "metadata": {}
        }
      ],
      "source": [
        "import matplotlib.pyplot as plt\n",
        "\n",
        "def plot_division_time_distribution(\n",
        "    counts: np.ndarray,\n",
        "    bin_centers: np.ndarray,\n",
        "    normalize: bool = False,\n",
        "    title: str | None = None\n",
        ") -> None:\n",
        "  \"\"\"Plot the division time distribution from histogram counts and bin centers.\n",
        "\n",
        "  Parameters\n",
        "  ----------\n",
        "  counts\n",
        "    Histogram counts per bin (shape: (n_bins,)).\n",
        "  bin_centers\n",
        "    Bin center locations in minutes (shape: (n_bins,)).\n",
        "  normalize\n",
        "    Normalize data before plotting\n",
        "  title\n",
        "    Optional plot title.\n",
        "\n",
        "  \"\"\"\n",
        "  if counts.size == 0 or bin_centers.size == 0:\n",
        "      raise ValueError(\"No data to plot: counts/bin_centers are empty.\")\n",
        "\n",
        "  if counts.shape[0] != bin_centers.shape[0]:\n",
        "      raise ValueError(\"counts and bin_centers must have the same length.\")\n",
        "\n",
        "  if normalize:\n",
        "    counts = counts / counts.sum() if counts.sum() > 0 else counts\n",
        "\n",
        "  # Reconstruct edges -> widths from bin centers\n",
        "  if bin_centers.size > 1:\n",
        "      left_edge0 = bin_centers[0] - 0.5 * (bin_centers[1] - bin_centers[0])\n",
        "      right_edgeN = bin_centers[-1] + 0.5 * (bin_centers[-1] - bin_centers[-2])\n",
        "      mid_edges = 0.5 * (bin_centers[:-1] + bin_centers[1:])\n",
        "      edges = np.concatenate(([left_edge0], mid_edges, [right_edgeN]))\n",
        "      widths = np.diff(edges)\n",
        "  else:\n",
        "      # Single bin: choose a default width (e.g., 1 minute)\n",
        "      widths = np.array([1.0], dtype=float)\n",
        "\n",
        "  fig, ax = plt.subplots(figsize=(6, 4))\n",
        "  ax.bar(bin_centers, counts, width=widths, align=\"center\")\n",
        "  ax.set_xlabel(\"Division time (minutes)\")\n",
        "  ax.set_ylabel(\"Count\")\n",
        "  if title:\n",
        "      ax.set_title(title)\n",
        "  fig.tight_layout()\n",
        "  plt.show()\n",
        "\n",
        "plot_division_time_distribution(division_times, bin_center, True)"
      ]
    },
    {
      "cell_type": "markdown",
      "id": "19481017",
      "metadata": {
        "id": "19481017"
      },
      "source": [
        "# Multiple ways to analyze this experiment\n",
        "\n",
        "Using the above experimental and processed data, here are four ways you could analyze the dynamics of bacteria growth.\n",
        "\n",
        "1. Quantify the total area of bacteria per time and see if it follows the Exponential Growth or Logistic Growth equation.\n",
        "2. Quanify the number of bacteria per time and see if it follows the Exponential Growth or Logistic Growth equation.\n",
        "3. Quantify the mean time between cell divisions and compare it to the rate obtained using 1 and 2 above.\n",
        "4. Quantify the full distribution of time between cell division across the entire dataset. Does it match your expectations?"
      ]
    },
    {
      "cell_type": "code",
      "source": [
        "# dont need this becuase i have data\n",
        "\n",
        "############\n",
        "def run_simulated_experiment(n_traj,t_max,n_timepoints):\n",
        "\n",
        "  x0 = initial_condition()\n",
        "  S = stoichometry()\n",
        "  pars = propensities()\n",
        "\n",
        "  assert n_traj * n_timepoints <= 500, \"n_traj * n_timepoints must be less than 1000\"\n",
        "  trajectory_times = np.linspace(0,t_max,n_timepoints)\n",
        "\n",
        "  # Initialize the results\n",
        "  trajectories = np.zeros((n_traj, len(trajectory_times)))\n",
        "  for i in range(n_traj):\n",
        "      trajectories[i,:] = gillespie1(x0, 0, t_max, S, pars, trajectory_times)\n",
        "\n",
        "  return trajectories, trajectory_times, (x0,pars['k1'],pars['k2'])\n",
        "\n",
        "n_traj = 10\n",
        "t_max = 100\n",
        "n_timepoints = 50\n",
        "experimental_results, trajectory_times, experimental_parameters = run_simulated_experiment(n_traj,t_max,n_timepoints)\n",
        "###################\n"
      ],
      "metadata": {
        "id": "wrZqcaYkpzuG"
      },
      "id": "wrZqcaYkpzuG",
      "execution_count": null,
      "outputs": []
    },
    {
      "cell_type": "code",
      "source": [
        "from scipy.integrate import odeint\n",
        "from scipy.optimize import minimize"
      ],
      "metadata": {
        "id": "k_qYp6yrodat"
      },
      "id": "k_qYp6yrodat",
      "execution_count": 28,
      "outputs": []
    },
    {
      "cell_type": "code",
      "source": [
        "# whats the max at each of the 21 timepoints\n",
        "useful_data =np.max(mask_data,axis=(1,2))\n"
      ],
      "metadata": {
        "id": "7RNtoTUogkCx"
      },
      "id": "7RNtoTUogkCx",
      "execution_count": 44,
      "outputs": []
    },
    {
      "cell_type": "code",
      "source": [
        "mask_data[:].shape\n",
        "# get the 21 time values from mask_data\n",
        "#trajectory_times = mask_data.shape[0]\n",
        "trajectory_times = np.arange(0,21,1) *5\n",
        "trajectory_times"
      ],
      "metadata": {
        "colab": {
          "base_uri": "https://localhost:8080/"
        },
        "id": "-WyGJ-A6o3H2",
        "outputId": "8cafa20c-89d9-4c6c-b070-a17e51a47f2f"
      },
      "id": "-WyGJ-A6o3H2",
      "execution_count": 57,
      "outputs": [
        {
          "output_type": "execute_result",
          "data": {
            "text/plain": [
              "array([  0,   5,  10,  15,  20,  25,  30,  35,  40,  45,  50,  55,  60,\n",
              "        65,  70,  75,  80,  85,  90,  95, 100])"
            ]
          },
          "metadata": {},
          "execution_count": 57
        }
      ]
    },
    {
      "cell_type": "markdown",
      "source": [
        "# define model ?"
      ],
      "metadata": {
        "id": "lnOSCIn1Ctm1"
      },
      "id": "lnOSCIn1Ctm1"
    },
    {
      "cell_type": "code",
      "source": [
        "def W(x,t,pars):\n",
        "  return np.array([pars['k1']*x[0]])\n",
        "\n",
        "# Define the RHS of the ODE:\n",
        "def dxdt(x,t,S,pars):\n",
        "  return S @ W(x,t,pars=pars)\n",
        "\n",
        "def ode_model(t, x0, k1):\n",
        "  # Define the intial condition. It is now a parameter we are fitting for!\n",
        "  x = np.array([x0])\n",
        "\n",
        "  # Define the stoichiometry matrix as a 1 (species) by 2 (reaction) numpy array\n",
        "  S=np.array([[1]])\n",
        "\n",
        "  # Define the reaction rate parameters as a dictionary\n",
        "  # These are now parameters we are fitting for!\n",
        "  pars = {'k1': k1}\n",
        "  # Units are:  k1 = (mg/mL) / minute\n",
        "  #             k2 = 1 / minute\n",
        "\n",
        "  # Pass the pars dictionary to the dxdt function\n",
        "  trajectory=odeint(dxdt, x, t, args=(S, pars))\n",
        "\n",
        "  return trajectory[:,0]"
      ],
      "metadata": {
        "id": "iluZxcVDoNUp"
      },
      "id": "iluZxcVDoNUp",
      "execution_count": 58,
      "outputs": []
    },
    {
      "cell_type": "markdown",
      "source": [
        "# error ?"
      ],
      "metadata": {
        "id": "LsFTAoNSCw8f"
      },
      "id": "LsFTAoNSCw8f"
    },
    {
      "cell_type": "code",
      "source": [
        "def ode_error_function(params, t, data):\n",
        "    x0, k1= params\n",
        "    model_output = ode_model(t, x0, k1)\n",
        "    return np.sum((model_output - useful_data)**2)\n",
        "\n",
        "\n",
        "# im only looking for x0 and k1, but i kind of already know x0?\n",
        "initial_guess = [8,0.5]\n",
        "bounds = [(0, np.inf), (0, np.inf)]\n",
        "\n",
        "result = minimize(ode_error_function, initial_guess, args=(trajectory_times,useful_data), bounds=bounds)\n",
        "\n",
        "# Extract the fitted parameters\n",
        "popt = result.x"
      ],
      "metadata": {
        "id": "gYOZn2WfogKS"
      },
      "id": "gYOZn2WfogKS",
      "execution_count": 59,
      "outputs": []
    },
    {
      "cell_type": "code",
      "source": [
        "result.x\n"
      ],
      "metadata": {
        "colab": {
          "base_uri": "https://localhost:8080/"
        },
        "id": "OrU3ivqfKfNF",
        "outputId": "ea8a9464-c1b1-4e57-889d-33d592c28740"
      },
      "id": "OrU3ivqfKfNF",
      "execution_count": 80,
      "outputs": [
        {
          "output_type": "execute_result",
          "data": {
            "text/plain": [
              "array([6.67687289, 0.03126067])"
            ]
          },
          "metadata": {},
          "execution_count": 80
        }
      ]
    },
    {
      "cell_type": "markdown",
      "source": [
        "# make graph\n",
        "i dont have std and what would i even take the mean of"
      ],
      "metadata": {
        "id": "qVrgQh0wC5qq"
      },
      "id": "qVrgQh0wC5qq"
    },
    {
      "cell_type": "code",
      "source": [
        "# Plot the mean of the experimental results\n",
        "plt.plot(trajectory_times, useful_data, color='r', linewidth=2, label='Experimental Data')\n",
        "\n",
        "# Plot the fitted ODE model\n",
        "plt.plot(trajectory_times, ode_model(trajectory_times, *popt), color='b', linewidth=2, label='Fitted ODE Model')\n",
        "\n",
        "plt.xlabel('Time')\n",
        "plt.ylabel('Number of molecules')\n",
        "plt.title('Fitted ODE Model vs Experimental Data')\n",
        "plt.legend()\n",
        "plt.show()"
      ],
      "metadata": {
        "colab": {
          "base_uri": "https://localhost:8080/",
          "height": 472
        },
        "id": "A94gu8lfovYi",
        "outputId": "a3c100bf-2045-4526-9b65-4444991c0ec9"
      },
      "id": "A94gu8lfovYi",
      "execution_count": 60,
      "outputs": [
        {
          "output_type": "display_data",
          "data": {
            "text/plain": [
              "<Figure size 640x480 with 1 Axes>"
            ],
            "image/png": "[encoded data removed]"
          },
          "metadata": {}
        }
      ]
    },
    {
      "cell_type": "markdown",
      "source": [
        "#how long to divde != rate\n"
      ],
      "metadata": {
        "id": "2EkmsA08E0zB"
      },
      "id": "2EkmsA08E0zB"
    },
    {
      "cell_type": "code",
      "source": [
        "\n",
        "# Define parameters for the exponential growth\n",
        "N_0 = 6.67687289 # Initial number of cells\n",
        "r =  0.03126067 # Growth rate of cells in generations per minute\n",
        "total_time = 40 # Total time of the integration in minutes."
      ],
      "metadata": {
        "id": "MpYCTYmoE0i1"
      },
      "id": "MpYCTYmoE0i1",
      "execution_count": 81,
      "outputs": []
    },
    {
      "cell_type": "code",
      "source": [
        "\n",
        "# Define parameters for the numerical integrator\n",
        "delta_t = 5 # time step in minutes\n",
        "n_time_steps = int(total_time / delta_t)"
      ],
      "metadata": {
        "id": "nk31H89qHLVm"
      },
      "id": "nk31H89qHLVm",
      "execution_count": 82,
      "outputs": []
    },
    {
      "cell_type": "code",
      "source": [
        "# Set up the empty vector where we will store the number of cells at time t.\n",
        "N_t = np.zeros(n_time_steps)\n",
        "\n",
        "# Set the initial condition by indexing the array.\n",
        "N_t[0] = N_0"
      ],
      "metadata": {
        "id": "lqN7TGxMHRMY"
      },
      "id": "lqN7TGxMHRMY",
      "execution_count": 83,
      "outputs": []
    },
    {
      "cell_type": "code",
      "source": [
        "\n",
        "# Loop through each time step\n",
        "# We say range(1, N) instead of range(N) to begin at index 1\n",
        "for t in range(1, n_time_steps):\n",
        "\n",
        "    # Calculate the change in the number of cells.\n",
        "    dN = N_t[t - 1] * r * delta_t\n",
        "\n",
        "    # Update the number of cells at the current time point\n",
        "    N_t[t] = N_t[t - 1] + dN"
      ],
      "metadata": {
        "id": "BmawWqZxHUGx"
      },
      "id": "BmawWqZxHUGx",
      "execution_count": 84,
      "outputs": []
    },
    {
      "cell_type": "code",
      "source": [
        "# Set up the time array for the x axis\n",
        "# np.arange will arrange numbers from 0 to the total time, taking steps of dt\n",
        "time_range = np.arange(0, total_time, delta_t)\n",
        "\n",
        "# Plot our calculation as a blue line\n",
        "plt.plot(time_range, N_t, 'b-', label='numerical integration')\n",
        "#plot a line at 16 cells\n",
        "plt.axhline(y=N_0 * 2, color='r', linestyle='--', label='double cells from start')\n",
        "# label the coordinates where the lines interect\n",
        "\n",
        "# Find the intersection points\n",
        "intersection_indices = np.where(np.diff(np.sign(N_t - (N_0 * 2))))[0]\n",
        "intersection_times = time_range[intersection_indices]\n",
        "intersection_values = N_t[intersection_indices]\n",
        "\n",
        "# Label the intersection points\n",
        "for i in range(len(intersection_times)):\n",
        "    plt.annotate(f'({intersection_times[i]:.2f}, {intersection_values[i]:.2f})',\n",
        "                 (intersection_times[i], intersection_values[i]),\n",
        "                 textcoords=\"offset points\",\n",
        "                 xytext=(0,10),\n",
        "                 ha='center')\n",
        "\n",
        "\n",
        "# Add an appropriate label and legend\n",
        "plt.xlabel('time [min]')\n",
        "plt.ylabel('number of cells')\n",
        "plt.legend()\n",
        "plt.show()"
      ],
      "metadata": {
        "colab": {
          "base_uri": "https://localhost:8080/",
          "height": 449
        },
        "id": "fCJPrAI3HVJe",
        "outputId": "eaf6d7f9-0a39-4470-ae9c-1961f49c23bd"
      },
      "id": "fCJPrAI3HVJe",
      "execution_count": 88,
      "outputs": [
        {
          "output_type": "display_data",
          "data": {
            "text/plain": [
              "<Figure size 640x480 with 1 Axes>"
            ],
            "image/png": "[encoded data removed]"
          },
          "metadata": {}
        }
      ]
    },
    {
      "cell_type": "code",
      "source": [
        "\n",
        "# Compute the analytical solution.\n",
        "solution = N_0 * np.exp(r * time_range)\n",
        "\n",
        "# Plot every 50 points from the numerical integration.\n",
        "plt.plot(time_range[::50], N_t[::50], 'bo', label='numerical integration')\n",
        "\n",
        "# Plot the analytical solution as a red line.\n",
        "plt.plot(time_range, solution, 'r-', label='analytical solution')\n",
        "\n",
        "# Add appropriate labels.\n",
        "plt.xlabel('time [min]')\n",
        "plt.ylabel('number of cells')\n",
        "plt.legend()"
      ],
      "metadata": {
        "colab": {
          "base_uri": "https://localhost:8080/",
          "height": 466
        },
        "id": "bSRf-ykcHbVL",
        "outputId": "1aa0c70b-efe2-4ec5-c058-f4e215434f5c"
      },
      "id": "bSRf-ykcHbVL",
      "execution_count": 67,
      "outputs": [
        {
          "output_type": "execute_result",
          "data": {
            "text/plain": [
              "<matplotlib.legend.Legend at 0x7df8850bb7d0>"
            ]
          },
          "metadata": {},
          "execution_count": 67
        },
        {
          "output_type": "display_data",
          "data": {
            "text/plain": [
              "<Figure size 640x480 with 1 Axes>"
            ],
            "image/png": "[encoded data removed]"
          },
          "metadata": {}
        }
      ]
    },
    {
      "cell_type": "code",
      "source": [
        "\n",
        "# Set the new parameters\n",
        "delta_t_long = 5\n",
        "n_time_steps_long = int(total_time / delta_t_long)\n",
        "\n",
        "# Set the storage vector so we don't rewrite our correct approach\n",
        "N_t_long = np.zeros(n_time_steps_long)\n",
        "N_t_long[0] = N_0\n",
        "\n",
        "# Loop through each time step\n",
        "for t in range(1, n_time_steps_long):\n",
        "\n",
        "    # Calculate the change in the number of cells.\n",
        "    dN = N_t_long[t - 1] * r * delta_t_long\n",
        "\n",
        "    # Update the number of cells at the current time point\n",
        "    N_t_long[t] = N_t_long[t - 1] + dN"
      ],
      "metadata": {
        "id": "gS6jqxBZHmYu"
      },
      "id": "gS6jqxBZHmYu",
      "execution_count": 70,
      "outputs": []
    },
    {
      "cell_type": "code",
      "source": [
        "\n",
        "# Plot the analytical solution\n",
        "plt.plot(time_range, solution, 'r-', label='analytical solution')\n",
        "\n",
        "# Plot every fifth point from the long time step integration\n",
        "time_range_long = np.arange(0, total_time, delta_t_long)\n",
        "plt.plot(time_range_long, N_t_long, 'go', label='Δt = 5 min')\n",
        "\n",
        "# Add labels as usual\n",
        "plt.xlabel('time [min]')\n",
        "plt.ylabel('number of cells')\n",
        "plt.legend()\n",
        ""
      ],
      "metadata": {
        "colab": {
          "base_uri": "https://localhost:8080/",
          "height": 466
        },
        "id": "BQuyLqwvHnhq",
        "outputId": "a3de1fb1-26e3-4170-87e2-02008a26cad3"
      },
      "id": "BQuyLqwvHnhq",
      "execution_count": 71,
      "outputs": [
        {
          "output_type": "execute_result",
          "data": {
            "text/plain": [
              "<matplotlib.legend.Legend at 0x7df884f8b710>"
            ]
          },
          "metadata": {},
          "execution_count": 71
        },
        {
          "output_type": "display_data",
          "data": {
            "text/plain": [
              "<Figure size 640x480 with 1 Axes>"
            ],
            "image/png": "[encoded data removed]"
          },
          "metadata": {}
        }
      ]
    },
    {
      "cell_type": "code",
      "source": [
        "\n",
        "# Set the carrying capacity:\n",
        "K = [75, 1.5E2, 3E2]\n",
        "\n",
        "# Extend the total time of the integration\n",
        "delta_t = 0.1\n",
        "total_time = 500\n",
        "time_range = np.arange(0, total_time, delta_t)\n",
        "n_time_steps = int(total_time / delta_t)\n",
        "# Set the storage vector so we don't rewrite our correct approach\n",
        "N_t = np.zeros((len(K), n_time_steps))\n",
        "N_t[:, 0] = N_0\n",
        "\n",
        "# Loop through each carrying capacity\n",
        "for k in range(len(K)):\n",
        "\n",
        "    # Loop through each time step.\n",
        "    for t in range(1, n_time_steps):\n",
        "\n",
        "        # Calculate the change in the number of cells.\n",
        "        dN = N_t[k, t - 1] * r * delta_t * (1 - N_t[k, t - 1] / K[k])\n",
        "\n",
        "        # Update the number of cells at the current time point\n",
        "        N_t[k, t] = N_t[k, t - 1] + dN\n",
        "\n",
        "# Loop through the carrying capacities and plot every 100th point.\n",
        "for i in range(len(K)):\n",
        "    plt.plot(time_range[::100], N_t[i, ::100], '.', label='K = ' + str(K[i]))\n",
        "\n",
        "# Add appropriate labels and legends.\n",
        "plt.xlabel('time  [min]')\n",
        "plt.ylabel('number of cells')\n",
        "plt.legend()"
      ],
      "metadata": {
        "colab": {
          "base_uri": "https://localhost:8080/",
          "height": 466
        },
        "id": "YkODbZJmH3CK",
        "outputId": "9699f257-1b4b-4a3b-e7ea-8bc94ab45432"
      },
      "id": "YkODbZJmH3CK",
      "execution_count": 72,
      "outputs": [
        {
          "output_type": "execute_result",
          "data": {
            "text/plain": [
              "<matplotlib.legend.Legend at 0x7df884ee2e90>"
            ]
          },
          "metadata": {},
          "execution_count": 72
        },
        {
          "output_type": "display_data",
          "data": {
            "text/plain": [
              "<Figure size 640x480 with 1 Axes>"
            ],
            "image/png": "[encoded data removed]"
          },
          "metadata": {}
        }
      ]
    },
    {
      "cell_type": "code",
      "source": [
        "\n",
        "# Solve the analytical solution for our three carrying capacities.\n",
        "solution = np.zeros((len(K), n_time_steps))\n",
        "for i in range(len(K)):\n",
        "    solution[i, :] = N_0 * K[i] / (np.exp(-r * time_range) * (K[i] - N_0) + N_0)\n",
        "\n",
        "# Define the colors so they match up.\n",
        "colors = ['green', 'orange', 'blue']\n",
        "\n",
        "# Set up a figure that's a bit bigger\n",
        "fig = plt.figure(figsize=(9, 5))\n",
        "\n",
        "# Plot the analytical solutions and numerical integrations\n",
        "for i in range(len(K)):\n",
        "    # Analytical solution\n",
        "    plt.plot(time_range, solution[i,:], color=colors[i],\n",
        "             label='solution, K = ' + str(K[i]))\n",
        "\n",
        "    # Numerical integration\n",
        "    plt.plot(time_range[::200], N_t[i, ::200], '.', markersize=10, color=colors[i],\n",
        "            label='integration, K = ' + str(K[i]))\n",
        "\n",
        "# Add axis labels and a legend.\n",
        "plt.xlabel('time [min]')\n",
        "plt.ylabel('number of cells')\n",
        "plt.legend()"
      ],
      "metadata": {
        "colab": {
          "base_uri": "https://localhost:8080/",
          "height": 482
        },
        "id": "C6ie5TRVH5ob",
        "outputId": "d0764ca0-e33e-452e-be7e-19f5a99eb136"
      },
      "id": "C6ie5TRVH5ob",
      "execution_count": 73,
      "outputs": [
        {
          "output_type": "execute_result",
          "data": {
            "text/plain": [
              "<matplotlib.legend.Legend at 0x7df884f6b250>"
            ]
          },
          "metadata": {},
          "execution_count": 73
        },
        {
          "output_type": "display_data",
          "data": {
            "text/plain": [
              "<Figure size 900x500 with 1 Axes>"
            ],
            "image/png": "[encoded data removed]"
          },
          "metadata": {}
        }
      ]
    }
  ],
  "metadata": {
    "colab": {
      "provenance": []
    },
    "kernelspec": {
      "display_name": "Python 3",
      "name": "python3"
    },
    "language_info": {
      "name": "python"
    },
    "widgets": {
      "application/vnd.jupyter.widget-state+json": {
        "a44b4ae29166436880da3db6138ac733": {
          "model_module": "@jupyter-widgets/controls",
          "model_name": "HBoxModel",
          "model_module_version": "1.5.0",
          "state": {
            "_dom_classes": [],
            "_model_module": "@jupyter-widgets/controls",
            "_model_module_version": "1.5.0",
            "_model_name": "HBoxModel",
            "_view_count": null,
            "_view_module": "@jupyter-widgets/controls",
            "_view_module_version": "1.5.0",
            "_view_name": "HBoxView",
            "box_style": "",
            "children": [
              "IPY_MODEL_1bd798091f754ddbabdb8557c3736338"
            ],
            "layout": "IPY_MODEL_4c0735971461477ebfaade8475a690c4"
          }
        },
        "1bd798091f754ddbabdb8557c3736338": {
          "model_module": "@jupyter-widgets/controls",
          "model_name": "VBoxModel",
          "model_module_version": "1.5.0",
          "state": {
            "_dom_classes": [],
            "_model_module": "@jupyter-widgets/controls",
            "_model_module_version": "1.5.0",
            "_model_name": "VBoxModel",
            "_view_count": null,
            "_view_module": "@jupyter-widgets/controls",
            "_view_module_version": "1.5.0",
            "_view_name": "VBoxView",
            "box_style": "",
            "children": [
              "IPY_MODEL_841f60b024ca4e6486416edec1c045f5"
            ],
            "layout": "IPY_MODEL_56038e84d4cb4feb97d4d03a1760abeb"
          }
        },
        "4c0735971461477ebfaade8475a690c4": {
          "model_module": "@jupyter-widgets/base",
          "model_name": "LayoutModel",
          "model_module_version": "1.2.0",
          "state": {
            "_model_module": "@jupyter-widgets/base",
            "_model_module_version": "1.2.0",
            "_model_name": "LayoutModel",
            "_view_count": null,
            "_view_module": "@jupyter-widgets/base",
            "_view_module_version": "1.2.0",
            "_view_name": "LayoutView",
            "align_content": null,
            "align_items": null,
            "align_self": null,
            "border": null,
            "bottom": null,
            "display": null,
            "flex": null,
            "flex_flow": null,
            "grid_area": null,
            "grid_auto_columns": null,
            "grid_auto_flow": null,
            "grid_auto_rows": null,
            "grid_column": null,
            "grid_gap": null,
            "grid_row": null,
            "grid_template_areas": null,
            "grid_template_columns": null,
            "grid_template_rows": null,
            "height": null,
            "justify_content": null,
            "justify_items": null,
            "left": null,
            "margin": null,
            "max_height": null,
            "max_width": null,
            "min_height": null,
            "min_width": null,
            "object_fit": null,
            "object_position": null,
            "order": null,
            "overflow": null,
            "overflow_x": null,
            "overflow_y": null,
            "padding": null,
            "right": null,
            "top": null,
            "visibility": null,
            "width": null
          }
        },
        "841f60b024ca4e6486416edec1c045f5": {
          "model_module": "@jupyter-widgets/controls",
          "model_name": "VBoxModel",
          "model_module_version": "1.5.0",
          "state": {
            "_dom_classes": [],
            "_model_module": "@jupyter-widgets/controls",
            "_model_module_version": "1.5.0",
            "_model_name": "VBoxModel",
            "_view_count": null,
            "_view_module": "@jupyter-widgets/controls",
            "_view_module_version": "1.5.0",
            "_view_name": "VBoxView",
            "box_style": "",
            "children": [
              "IPY_MODEL_01636b516ddd43eab9c9e3891d2bbc5e",
              "IPY_MODEL_5b2761de8f574e31aec2180eb423c144"
            ],
            "layout": "IPY_MODEL_597b942f66dd43878fd53acc29a7cc02"
          }
        },
        "56038e84d4cb4feb97d4d03a1760abeb": {
          "model_module": "@jupyter-widgets/base",
          "model_name": "LayoutModel",
          "model_module_version": "1.2.0",
          "state": {
            "_model_module": "@jupyter-widgets/base",
            "_model_module_version": "1.2.0",
            "_model_name": "LayoutModel",
            "_view_count": null,
            "_view_module": "@jupyter-widgets/base",
            "_view_module_version": "1.2.0",
            "_view_name": "LayoutView",
            "align_content": null,
            "align_items": null,
            "align_self": null,
            "border": null,
            "bottom": null,
            "display": null,
            "flex": null,
            "flex_flow": null,
            "grid_area": null,
            "grid_auto_columns": null,
            "grid_auto_flow": null,
            "grid_auto_rows": null,
            "grid_column": null,
            "grid_gap": null,
            "grid_row": null,
            "grid_template_areas": null,
            "grid_template_columns": null,
            "grid_template_rows": null,
            "height": null,
            "justify_content": null,
            "justify_items": null,
            "left": null,
            "margin": null,
            "max_height": null,
            "max_width": null,
            "min_height": null,
            "min_width": null,
            "object_fit": null,
            "object_position": null,
            "order": null,
            "overflow": null,
            "overflow_x": null,
            "overflow_y": null,
            "padding": null,
            "right": null,
            "top": null,
            "visibility": null,
            "width": null
          }
        },
        "01636b516ddd43eab9c9e3891d2bbc5e": {
          "model_module": "@jupyter-widgets/controls",
          "model_name": "HBoxModel",
          "model_module_version": "1.5.0",
          "state": {
            "_dom_classes": [],
            "_model_module": "@jupyter-widgets/controls",
            "_model_module_version": "1.5.0",
            "_model_name": "HBoxModel",
            "_view_count": null,
            "_view_module": "@jupyter-widgets/controls",
            "_view_module_version": "1.5.0",
            "_view_name": "HBoxView",
            "box_style": "",
            "children": [
              "IPY_MODEL_d3180e70f17648c9947c0e42a0d20aa5"
            ],
            "layout": "IPY_MODEL_920c637ec9b641d0910abcf74e882eb3"
          }
        },
        "5b2761de8f574e31aec2180eb423c144": {
          "model_module": "@jupyter-widgets/controls",
          "model_name": "VBoxModel",
          "model_module_version": "1.5.0",
          "state": {
            "_dom_classes": [],
            "_model_module": "@jupyter-widgets/controls",
            "_model_module_version": "1.5.0",
            "_model_name": "VBoxModel",
            "_view_count": null,
            "_view_module": "@jupyter-widgets/controls",
            "_view_module_version": "1.5.0",
            "_view_name": "VBoxView",
            "box_style": "",
            "children": [
              "IPY_MODEL_ace9f3fe435544058063068f29eccc55"
            ],
            "layout": "IPY_MODEL_fdf5a7733fe34f0592460f7ce6ea3a05"
          }
        },
        "597b942f66dd43878fd53acc29a7cc02": {
          "model_module": "@jupyter-widgets/base",
          "model_name": "LayoutModel",
          "model_module_version": "1.2.0",
          "state": {
            "_model_module": "@jupyter-widgets/base",
            "_model_module_version": "1.2.0",
            "_model_name": "LayoutModel",
            "_view_count": null,
            "_view_module": "@jupyter-widgets/base",
            "_view_module_version": "1.2.0",
            "_view_name": "LayoutView",
            "align_content": null,
            "align_items": null,
            "align_self": null,
            "border": null,
            "bottom": null,
            "display": null,
            "flex": null,
            "flex_flow": null,
            "grid_area": null,
            "grid_auto_columns": null,
            "grid_auto_flow": null,
            "grid_auto_rows": null,
            "grid_column": null,
            "grid_gap": null,
            "grid_row": null,
            "grid_template_areas": null,
            "grid_template_columns": null,
            "grid_template_rows": null,
            "height": null,
            "justify_content": null,
            "justify_items": null,
            "left": null,
            "margin": null,
            "max_height": null,
            "max_width": null,
            "min_height": null,
            "min_width": null,
            "object_fit": null,
            "object_position": null,
            "order": null,
            "overflow": null,
            "overflow_x": null,
            "overflow_y": null,
            "padding": null,
            "right": null,
            "top": null,
            "visibility": null,
            "width": null
          }
        },
        "d3180e70f17648c9947c0e42a0d20aa5": {
          "model_module": "@jupyter-widgets/controls",
          "model_name": "VBoxModel",
          "model_module_version": "1.5.0",
          "state": {
            "_dom_classes": [],
            "_model_module": "@jupyter-widgets/controls",
            "_model_module_version": "1.5.0",
            "_model_name": "VBoxModel",
            "_view_count": null,
            "_view_module": "@jupyter-widgets/controls",
            "_view_module_version": "1.5.0",
            "_view_name": "VBoxView",
            "box_style": "",
            "children": [
              "IPY_MODEL_b77ff375a24b4b34ae2ad8d5de4a42af"
            ],
            "layout": "IPY_MODEL_d53e6acb1c684083b47e6f29b66f4382"
          }
        },
        "920c637ec9b641d0910abcf74e882eb3": {
          "model_module": "@jupyter-widgets/base",
          "model_name": "LayoutModel",
          "model_module_version": "1.2.0",
          "state": {
            "_model_module": "@jupyter-widgets/base",
            "_model_module_version": "1.2.0",
            "_model_name": "LayoutModel",
            "_view_count": null,
            "_view_module": "@jupyter-widgets/base",
            "_view_module_version": "1.2.0",
            "_view_name": "LayoutView",
            "align_content": null,
            "align_items": null,
            "align_self": null,
            "border": null,
            "bottom": null,
            "display": null,
            "flex": null,
            "flex_flow": null,
            "grid_area": null,
            "grid_auto_columns": null,
            "grid_auto_flow": null,
            "grid_auto_rows": null,
            "grid_column": null,
            "grid_gap": null,
            "grid_row": null,
            "grid_template_areas": null,
            "grid_template_columns": null,
            "grid_template_rows": null,
            "height": null,
            "justify_content": null,
            "justify_items": null,
            "left": null,
            "margin": null,
            "max_height": null,
            "max_width": null,
            "min_height": null,
            "min_width": null,
            "object_fit": null,
            "object_position": null,
            "order": null,
            "overflow": null,
            "overflow_x": null,
            "overflow_y": null,
            "padding": null,
            "right": null,
            "top": null,
            "visibility": null,
            "width": null
          }
        },
        "ace9f3fe435544058063068f29eccc55": {
          "model_module": "@jupyter-widgets/controls",
          "model_name": "VBoxModel",
          "model_module_version": "1.5.0",
          "state": {
            "_dom_classes": [],
            "_model_module": "@jupyter-widgets/controls",
            "_model_module_version": "1.5.0",
            "_model_name": "VBoxModel",
            "_view_count": null,
            "_view_module": "@jupyter-widgets/controls",
            "_view_module_version": "1.5.0",
            "_view_name": "VBoxView",
            "box_style": "",
            "children": [
              "IPY_MODEL_ebf9302c8bc94572b9157642ed1512fe",
              "IPY_MODEL_079ec013745a4fe286e555f26771cae4"
            ],
            "layout": "IPY_MODEL_6791d0f4a1f242639cdb1c744663d8e3"
          }
        },
        "fdf5a7733fe34f0592460f7ce6ea3a05": {
          "model_module": "@jupyter-widgets/base",
          "model_name": "LayoutModel",
          "model_module_version": "1.2.0",
          "state": {
            "_model_module": "@jupyter-widgets/base",
            "_model_module_version": "1.2.0",
            "_model_name": "LayoutModel",
            "_view_count": null,
            "_view_module": "@jupyter-widgets/base",
            "_view_module_version": "1.2.0",
            "_view_name": "LayoutView",
            "align_content": null,
            "align_items": null,
            "align_self": null,
            "border": null,
            "bottom": null,
            "display": null,
            "flex": null,
            "flex_flow": null,
            "grid_area": null,
            "grid_auto_columns": null,
            "grid_auto_flow": null,
            "grid_auto_rows": null,
            "grid_column": null,
            "grid_gap": null,
            "grid_row": null,
            "grid_template_areas": null,
            "grid_template_columns": null,
            "grid_template_rows": null,
            "height": null,
            "justify_content": null,
            "justify_items": null,
            "left": null,
            "margin": null,
            "max_height": null,
            "max_width": null,
            "min_height": null,
            "min_width": null,
            "object_fit": null,
            "object_position": null,
            "order": null,
            "overflow": null,
            "overflow_x": null,
            "overflow_y": null,
            "padding": null,
            "right": null,
            "top": null,
            "visibility": null,
            "width": null
          }
        },
        "b77ff375a24b4b34ae2ad8d5de4a42af": {
          "model_module": "ipycanvas",
          "model_name": "CanvasModel",
          "model_module_version": "^0.11.0",
          "state": {
            "_dom_classes": [],
            "_model_module": "ipycanvas",
            "_model_module_version": "^0.11.0",
            "_model_name": "CanvasModel",
            "_send_client_ready_event": true,
            "_view_count": null,
            "_view_module": "ipycanvas",
            "_view_module_version": "^0.11.0",
            "_view_name": "CanvasView",
            "height": 1024,
            "image_data": null,
            "layout": "IPY_MODEL_79df305dbc1a40cdaeb275f7fe809218",
            "sync_image_data": false,
            "width": 1344
          }
        },
        "d53e6acb1c684083b47e6f29b66f4382": {
          "model_module": "@jupyter-widgets/base",
          "model_name": "LayoutModel",
          "model_module_version": "1.2.0",
          "state": {
            "_model_module": "@jupyter-widgets/base",
            "_model_module_version": "1.2.0",
            "_model_name": "LayoutModel",
            "_view_count": null,
            "_view_module": "@jupyter-widgets/base",
            "_view_module_version": "1.2.0",
            "_view_name": "LayoutView",
            "align_content": null,
            "align_items": null,
            "align_self": null,
            "border": null,
            "bottom": null,
            "display": null,
            "flex": null,
            "flex_flow": null,
            "grid_area": null,
            "grid_auto_columns": null,
            "grid_auto_flow": null,
            "grid_auto_rows": null,
            "grid_column": null,
            "grid_gap": null,
            "grid_row": null,
            "grid_template_areas": null,
            "grid_template_columns": null,
            "grid_template_rows": null,
            "height": null,
            "justify_content": null,
            "justify_items": null,
            "left": null,
            "margin": null,
            "max_height": null,
            "max_width": null,
            "min_height": null,
            "min_width": null,
            "object_fit": null,
            "object_position": null,
            "order": null,
            "overflow": null,
            "overflow_x": null,
            "overflow_y": null,
            "padding": null,
            "right": null,
            "top": null,
            "visibility": null,
            "width": null
          }
        },
        "ebf9302c8bc94572b9157642ed1512fe": {
          "model_module": "@jupyter-widgets/controls",
          "model_name": "HBoxModel",
          "model_module_version": "1.5.0",
          "state": {
            "_dom_classes": [],
            "_model_module": "@jupyter-widgets/controls",
            "_model_module_version": "1.5.0",
            "_model_name": "HBoxModel",
            "_view_count": null,
            "_view_module": "@jupyter-widgets/controls",
            "_view_module_version": "1.5.0",
            "_view_name": "HBoxView",
            "box_style": "",
            "children": [
              "IPY_MODEL_bd3478bea88742ad9e97129e4e52fd8e",
              "IPY_MODEL_7146de007fa247f08bc9ad6fb95b95d3"
            ],
            "layout": "IPY_MODEL_2799e9dd37974088a7b80567b8648177"
          }
        },
        "079ec013745a4fe286e555f26771cae4": {
          "model_module": "@jupyter-widgets/controls",
          "model_name": "HTMLModel",
          "model_module_version": "1.5.0",
          "state": {
            "_dom_classes": [],
            "_model_module": "@jupyter-widgets/controls",
            "_model_module_version": "1.5.0",
            "_model_name": "HTMLModel",
            "_view_count": null,
            "_view_module": "@jupyter-widgets/controls",
            "_view_module_version": "1.5.0",
            "_view_name": "HTMLView",
            "description": "",
            "description_tooltip": null,
            "layout": "IPY_MODEL_32f96dd1cfd5462995fe2178e400edae",
            "placeholder": "​",
            "style": "IPY_MODEL_8eb73abc63cd42c3a9637f3cd109ebfe",
            "value": "<style>.widget-readout { min-width: 20px !important; }</style>"
          }
        },
        "6791d0f4a1f242639cdb1c744663d8e3": {
          "model_module": "@jupyter-widgets/base",
          "model_name": "LayoutModel",
          "model_module_version": "1.2.0",
          "state": {
            "_model_module": "@jupyter-widgets/base",
            "_model_module_version": "1.2.0",
            "_model_name": "LayoutModel",
            "_view_count": null,
            "_view_module": "@jupyter-widgets/base",
            "_view_module_version": "1.2.0",
            "_view_name": "LayoutView",
            "align_content": null,
            "align_items": null,
            "align_self": null,
            "border": null,
            "bottom": null,
            "display": null,
            "flex": null,
            "flex_flow": null,
            "grid_area": null,
            "grid_auto_columns": null,
            "grid_auto_flow": null,
            "grid_auto_rows": null,
            "grid_column": null,
            "grid_gap": null,
            "grid_row": null,
            "grid_template_areas": null,
            "grid_template_columns": null,
            "grid_template_rows": null,
            "height": null,
            "justify_content": null,
            "justify_items": null,
            "left": null,
            "margin": null,
            "max_height": null,
            "max_width": null,
            "min_height": null,
            "min_width": null,
            "object_fit": null,
            "object_position": null,
            "order": null,
            "overflow": null,
            "overflow_x": null,
            "overflow_y": null,
            "padding": null,
            "right": null,
            "top": null,
            "visibility": null,
            "width": "100%"
          }
        },
        "bd3478bea88742ad9e97129e4e52fd8e": {
          "model_module": "@jupyter-widgets/controls",
          "model_name": "LabelModel",
          "model_module_version": "1.5.0",
          "state": {
            "_dom_classes": [],
            "_model_module": "@jupyter-widgets/controls",
            "_model_module_version": "1.5.0",
            "_model_name": "LabelModel",
            "_view_count": null,
            "_view_module": "@jupyter-widgets/controls",
            "_view_module_version": "1.5.0",
            "_view_name": "LabelView",
            "description": "",
            "description_tooltip": null,
            "layout": "IPY_MODEL_478e6c8940f247de8c8bf3dd47d21152",
            "placeholder": "​",
            "style": "IPY_MODEL_c34b57365abf45a3bc885cd2ee74d346",
            "value": "[0]"
          }
        },
        "7146de007fa247f08bc9ad6fb95b95d3": {
          "model_module": "@jupyter-widgets/controls",
          "model_name": "IntSliderModel",
          "model_module_version": "1.5.0",
          "state": {
            "_dom_classes": [],
            "_model_module": "@jupyter-widgets/controls",
            "_model_module_version": "1.5.0",
            "_model_name": "IntSliderModel",
            "_view_count": null,
            "_view_module": "@jupyter-widgets/controls",
            "_view_module_version": "1.5.0",
            "_view_name": "IntSliderView",
            "continuous_update": true,
            "description": "",
            "description_tooltip": null,
            "disabled": false,
            "layout": "IPY_MODEL_e4300493ffa244e19c35360b884f3373",
            "max": 19,
            "min": 0,
            "orientation": "horizontal",
            "readout": true,
            "readout_format": "d",
            "step": 1,
            "style": "IPY_MODEL_5cf9e977b30747188be8aa78da4472ac",
            "value": 12
          }
        },
        "2799e9dd37974088a7b80567b8648177": {
          "model_module": "@jupyter-widgets/base",
          "model_name": "LayoutModel",
          "model_module_version": "1.2.0",
          "state": {
            "_model_module": "@jupyter-widgets/base",
            "_model_module_version": "1.2.0",
            "_model_name": "LayoutModel",
            "_view_count": null,
            "_view_module": "@jupyter-widgets/base",
            "_view_module_version": "1.2.0",
            "_view_name": "LayoutView",
            "align_content": null,
            "align_items": null,
            "align_self": null,
            "border": null,
            "bottom": null,
            "display": null,
            "flex": null,
            "flex_flow": null,
            "grid_area": null,
            "grid_auto_columns": null,
            "grid_auto_flow": null,
            "grid_auto_rows": null,
            "grid_column": null,
            "grid_gap": null,
            "grid_row": null,
            "grid_template_areas": null,
            "grid_template_columns": null,
            "grid_template_rows": null,
            "height": null,
            "justify_content": null,
            "justify_items": null,
            "left": null,
            "margin": null,
            "max_height": null,
            "max_width": null,
            "min_height": null,
            "min_width": null,
            "object_fit": null,
            "object_position": null,
            "order": null,
            "overflow": null,
            "overflow_x": null,
            "overflow_y": null,
            "padding": null,
            "right": null,
            "top": null,
            "visibility": null,
            "width": null
          }
        },
        "32f96dd1cfd5462995fe2178e400edae": {
          "model_module": "@jupyter-widgets/base",
          "model_name": "LayoutModel",
          "model_module_version": "1.2.0",
          "state": {
            "_model_module": "@jupyter-widgets/base",
            "_model_module_version": "1.2.0",
            "_model_name": "LayoutModel",
            "_view_count": null,
            "_view_module": "@jupyter-widgets/base",
            "_view_module_version": "1.2.0",
            "_view_name": "LayoutView",
            "align_content": null,
            "align_items": null,
            "align_self": null,
            "border": null,
            "bottom": null,
            "display": null,
            "flex": null,
            "flex_flow": null,
            "grid_area": null,
            "grid_auto_columns": null,
            "grid_auto_flow": null,
            "grid_auto_rows": null,
            "grid_column": null,
            "grid_gap": null,
            "grid_row": null,
            "grid_template_areas": null,
            "grid_template_columns": null,
            "grid_template_rows": null,
            "height": null,
            "justify_content": null,
            "justify_items": null,
            "left": null,
            "margin": null,
            "max_height": null,
            "max_width": null,
            "min_height": null,
            "min_width": null,
            "object_fit": null,
            "object_position": null,
            "order": null,
            "overflow": null,
            "overflow_x": null,
            "overflow_y": null,
            "padding": null,
            "right": null,
            "top": null,
            "visibility": null,
            "width": null
          }
        },
        "8eb73abc63cd42c3a9637f3cd109ebfe": {
          "model_module": "@jupyter-widgets/controls",
          "model_name": "DescriptionStyleModel",
          "model_module_version": "1.5.0",
          "state": {
            "_model_module": "@jupyter-widgets/controls",
            "_model_module_version": "1.5.0",
            "_model_name": "DescriptionStyleModel",
            "_view_count": null,
            "_view_module": "@jupyter-widgets/base",
            "_view_module_version": "1.2.0",
            "_view_name": "StyleView",
            "description_width": ""
          }
        },
        "478e6c8940f247de8c8bf3dd47d21152": {
          "model_module": "@jupyter-widgets/base",
          "model_name": "LayoutModel",
          "model_module_version": "1.2.0",
          "state": {
            "_model_module": "@jupyter-widgets/base",
            "_model_module_version": "1.2.0",
            "_model_name": "LayoutModel",
            "_view_count": null,
            "_view_module": "@jupyter-widgets/base",
            "_view_module_version": "1.2.0",
            "_view_name": "LayoutView",
            "align_content": null,
            "align_items": null,
            "align_self": null,
            "border": null,
            "bottom": null,
            "display": null,
            "flex": null,
            "flex_flow": null,
            "grid_area": null,
            "grid_auto_columns": null,
            "grid_auto_flow": null,
            "grid_auto_rows": null,
            "grid_column": null,
            "grid_gap": null,
            "grid_row": null,
            "grid_template_areas": null,
            "grid_template_columns": null,
            "grid_template_rows": null,
            "height": null,
            "justify_content": null,
            "justify_items": null,
            "left": null,
            "margin": null,
            "max_height": null,
            "max_width": null,
            "min_height": null,
            "min_width": null,
            "object_fit": null,
            "object_position": null,
            "order": null,
            "overflow": null,
            "overflow_x": null,
            "overflow_y": null,
            "padding": null,
            "right": null,
            "top": null,
            "visibility": null,
            "width": null
          }
        },
        "c34b57365abf45a3bc885cd2ee74d346": {
          "model_module": "@jupyter-widgets/controls",
          "model_name": "DescriptionStyleModel",
          "model_module_version": "1.5.0",
          "state": {
            "_model_module": "@jupyter-widgets/controls",
            "_model_module_version": "1.5.0",
            "_model_name": "DescriptionStyleModel",
            "_view_count": null,
            "_view_module": "@jupyter-widgets/base",
            "_view_module_version": "1.2.0",
            "_view_name": "StyleView",
            "description_width": ""
          }
        },
        "e4300493ffa244e19c35360b884f3373": {
          "model_module": "@jupyter-widgets/base",
          "model_name": "LayoutModel",
          "model_module_version": "1.2.0",
          "state": {
            "_model_module": "@jupyter-widgets/base",
            "_model_module_version": "1.2.0",
            "_model_name": "LayoutModel",
            "_view_count": null,
            "_view_module": "@jupyter-widgets/base",
            "_view_module_version": "1.2.0",
            "_view_name": "LayoutView",
            "align_content": null,
            "align_items": null,
            "align_self": null,
            "border": null,
            "bottom": null,
            "display": null,
            "flex": null,
            "flex_flow": null,
            "grid_area": null,
            "grid_auto_columns": null,
            "grid_auto_flow": null,
            "grid_auto_rows": null,
            "grid_column": null,
            "grid_gap": null,
            "grid_row": null,
            "grid_template_areas": null,
            "grid_template_columns": null,
            "grid_template_rows": null,
            "height": null,
            "justify_content": null,
            "justify_items": null,
            "left": null,
            "margin": null,
            "max_height": null,
            "max_width": null,
            "min_height": null,
            "min_width": null,
            "object_fit": null,
            "object_position": null,
            "order": null,
            "overflow": null,
            "overflow_x": null,
            "overflow_y": null,
            "padding": null,
            "right": null,
            "top": null,
            "visibility": null,
            "width": "100%"
          }
        },
        "5cf9e977b30747188be8aa78da4472ac": {
          "model_module": "@jupyter-widgets/controls",
          "model_name": "SliderStyleModel",
          "model_module_version": "1.5.0",
          "state": {
            "_model_module": "@jupyter-widgets/controls",
            "_model_module_version": "1.5.0",
            "_model_name": "SliderStyleModel",
            "_view_count": null,
            "_view_module": "@jupyter-widgets/base",
            "_view_module_version": "1.2.0",
            "_view_name": "StyleView",
            "description_width": "",
            "handle_color": null
          }
        },
        "79df305dbc1a40cdaeb275f7fe809218": {
          "model_module": "@jupyter-widgets/base",
          "model_name": "LayoutModel",
          "model_module_version": "1.2.0",
          "state": {
            "_model_module": "@jupyter-widgets/base",
            "_model_module_version": "1.2.0",
            "_model_name": "LayoutModel",
            "_view_count": null,
            "_view_module": "@jupyter-widgets/base",
            "_view_module_version": "1.2.0",
            "_view_name": "LayoutView",
            "align_content": null,
            "align_items": null,
            "align_self": null,
            "border": null,
            "bottom": null,
            "display": null,
            "flex": null,
            "flex_flow": null,
            "grid_area": null,
            "grid_auto_columns": null,
            "grid_auto_flow": null,
            "grid_auto_rows": null,
            "grid_column": null,
            "grid_gap": null,
            "grid_row": null,
            "grid_template_areas": null,
            "grid_template_columns": null,
            "grid_template_rows": null,
            "height": null,
            "justify_content": null,
            "justify_items": null,
            "left": null,
            "margin": null,
            "max_height": null,
            "max_width": null,
            "min_height": null,
            "min_width": null,
            "object_fit": null,
            "object_position": null,
            "order": null,
            "overflow": null,
            "overflow_x": null,
            "overflow_y": null,
            "padding": null,
            "right": null,
            "top": null,
            "visibility": null,
            "width": null
          }
        },
        "48dd652f40bf4a2fb114f38f6f24666d": {
          "model_module": "@jupyter-widgets/controls",
          "model_name": "HBoxModel",
          "model_module_version": "1.5.0",
          "state": {
            "_dom_classes": [],
            "_model_module": "@jupyter-widgets/controls",
            "_model_module_version": "1.5.0",
            "_model_name": "HBoxModel",
            "_view_count": null,
            "_view_module": "@jupyter-widgets/controls",
            "_view_module_version": "1.5.0",
            "_view_name": "HBoxView",
            "box_style": "",
            "children": [
              "IPY_MODEL_54593835184a4696b27d1e7c4d7f34b6"
            ],
            "layout": "IPY_MODEL_8910edba8489422c885b06d9844f503e"
          }
        },
        "54593835184a4696b27d1e7c4d7f34b6": {
          "model_module": "@jupyter-widgets/controls",
          "model_name": "VBoxModel",
          "model_module_version": "1.5.0",
          "state": {
            "_dom_classes": [],
            "_model_module": "@jupyter-widgets/controls",
            "_model_module_version": "1.5.0",
            "_model_name": "VBoxModel",
            "_view_count": null,
            "_view_module": "@jupyter-widgets/controls",
            "_view_module_version": "1.5.0",
            "_view_name": "VBoxView",
            "box_style": "",
            "children": [
              "IPY_MODEL_c8bac3b7d8974016b1b5f0c1f332c88e"
            ],
            "layout": "IPY_MODEL_859df56b1313422a84bc667357af7479"
          }
        },
        "8910edba8489422c885b06d9844f503e": {
          "model_module": "@jupyter-widgets/base",
          "model_name": "LayoutModel",
          "model_module_version": "1.2.0",
          "state": {
            "_model_module": "@jupyter-widgets/base",
            "_model_module_version": "1.2.0",
            "_model_name": "LayoutModel",
            "_view_count": null,
            "_view_module": "@jupyter-widgets/base",
            "_view_module_version": "1.2.0",
            "_view_name": "LayoutView",
            "align_content": null,
            "align_items": null,
            "align_self": null,
            "border": null,
            "bottom": null,
            "display": null,
            "flex": null,
            "flex_flow": null,
            "grid_area": null,
            "grid_auto_columns": null,
            "grid_auto_flow": null,
            "grid_auto_rows": null,
            "grid_column": null,
            "grid_gap": null,
            "grid_row": null,
            "grid_template_areas": null,
            "grid_template_columns": null,
            "grid_template_rows": null,
            "height": null,
            "justify_content": null,
            "justify_items": null,
            "left": null,
            "margin": null,
            "max_height": null,
            "max_width": null,
            "min_height": null,
            "min_width": null,
            "object_fit": null,
            "object_position": null,
            "order": null,
            "overflow": null,
            "overflow_x": null,
            "overflow_y": null,
            "padding": null,
            "right": null,
            "top": null,
            "visibility": null,
            "width": null
          }
        },
        "c8bac3b7d8974016b1b5f0c1f332c88e": {
          "model_module": "@jupyter-widgets/controls",
          "model_name": "VBoxModel",
          "model_module_version": "1.5.0",
          "state": {
            "_dom_classes": [],
            "_model_module": "@jupyter-widgets/controls",
            "_model_module_version": "1.5.0",
            "_model_name": "VBoxModel",
            "_view_count": null,
            "_view_module": "@jupyter-widgets/controls",
            "_view_module_version": "1.5.0",
            "_view_name": "VBoxView",
            "box_style": "",
            "children": [
              "IPY_MODEL_0c30e5b393c5493c9edee796f6286ed5",
              "IPY_MODEL_eeacdaf3c3004cc08d44ca38f33e7681"
            ],
            "layout": "IPY_MODEL_a21f5ea631f34529ab470c0cc1868a68"
          }
        },
        "859df56b1313422a84bc667357af7479": {
          "model_module": "@jupyter-widgets/base",
          "model_name": "LayoutModel",
          "model_module_version": "1.2.0",
          "state": {
            "_model_module": "@jupyter-widgets/base",
            "_model_module_version": "1.2.0",
            "_model_name": "LayoutModel",
            "_view_count": null,
            "_view_module": "@jupyter-widgets/base",
            "_view_module_version": "1.2.0",
            "_view_name": "LayoutView",
            "align_content": null,
            "align_items": null,
            "align_self": null,
            "border": null,
            "bottom": null,
            "display": null,
            "flex": null,
            "flex_flow": null,
            "grid_area": null,
            "grid_auto_columns": null,
            "grid_auto_flow": null,
            "grid_auto_rows": null,
            "grid_column": null,
            "grid_gap": null,
            "grid_row": null,
            "grid_template_areas": null,
            "grid_template_columns": null,
            "grid_template_rows": null,
            "height": null,
            "justify_content": null,
            "justify_items": null,
            "left": null,
            "margin": null,
            "max_height": null,
            "max_width": null,
            "min_height": null,
            "min_width": null,
            "object_fit": null,
            "object_position": null,
            "order": null,
            "overflow": null,
            "overflow_x": null,
            "overflow_y": null,
            "padding": null,
            "right": null,
            "top": null,
            "visibility": null,
            "width": null
          }
        },
        "0c30e5b393c5493c9edee796f6286ed5": {
          "model_module": "@jupyter-widgets/controls",
          "model_name": "HBoxModel",
          "model_module_version": "1.5.0",
          "state": {
            "_dom_classes": [],
            "_model_module": "@jupyter-widgets/controls",
            "_model_module_version": "1.5.0",
            "_model_name": "HBoxModel",
            "_view_count": null,
            "_view_module": "@jupyter-widgets/controls",
            "_view_module_version": "1.5.0",
            "_view_name": "HBoxView",
            "box_style": "",
            "children": [
              "IPY_MODEL_f4c26038ac114660b126275281c1d924"
            ],
            "layout": "IPY_MODEL_8078bd85c993479eaa18f43de02ca670"
          }
        },
        "eeacdaf3c3004cc08d44ca38f33e7681": {
          "model_module": "@jupyter-widgets/controls",
          "model_name": "VBoxModel",
          "model_module_version": "1.5.0",
          "state": {
            "_dom_classes": [],
            "_model_module": "@jupyter-widgets/controls",
            "_model_module_version": "1.5.0",
            "_model_name": "VBoxModel",
            "_view_count": null,
            "_view_module": "@jupyter-widgets/controls",
            "_view_module_version": "1.5.0",
            "_view_name": "VBoxView",
            "box_style": "",
            "children": [
              "IPY_MODEL_2945e055cb8648b1a9915a20dd40b2f8"
            ],
            "layout": "IPY_MODEL_bbb92b3cae2b4d2eb2f17920ecaf85f2"
          }
        },
        "a21f5ea631f34529ab470c0cc1868a68": {
          "model_module": "@jupyter-widgets/base",
          "model_name": "LayoutModel",
          "model_module_version": "1.2.0",
          "state": {
            "_model_module": "@jupyter-widgets/base",
            "_model_module_version": "1.2.0",
            "_model_name": "LayoutModel",
            "_view_count": null,
            "_view_module": "@jupyter-widgets/base",
            "_view_module_version": "1.2.0",
            "_view_name": "LayoutView",
            "align_content": null,
            "align_items": null,
            "align_self": null,
            "border": null,
            "bottom": null,
            "display": null,
            "flex": null,
            "flex_flow": null,
            "grid_area": null,
            "grid_auto_columns": null,
            "grid_auto_flow": null,
            "grid_auto_rows": null,
            "grid_column": null,
            "grid_gap": null,
            "grid_row": null,
            "grid_template_areas": null,
            "grid_template_columns": null,
            "grid_template_rows": null,
            "height": null,
            "justify_content": null,
            "justify_items": null,
            "left": null,
            "margin": null,
            "max_height": null,
            "max_width": null,
            "min_height": null,
            "min_width": null,
            "object_fit": null,
            "object_position": null,
            "order": null,
            "overflow": null,
            "overflow_x": null,
            "overflow_y": null,
            "padding": null,
            "right": null,
            "top": null,
            "visibility": null,
            "width": null
          }
        },
        "f4c26038ac114660b126275281c1d924": {
          "model_module": "@jupyter-widgets/controls",
          "model_name": "VBoxModel",
          "model_module_version": "1.5.0",
          "state": {
            "_dom_classes": [],
            "_model_module": "@jupyter-widgets/controls",
            "_model_module_version": "1.5.0",
            "_model_name": "VBoxModel",
            "_view_count": null,
            "_view_module": "@jupyter-widgets/controls",
            "_view_module_version": "1.5.0",
            "_view_name": "VBoxView",
            "box_style": "",
            "children": [
              "IPY_MODEL_e521a8bfd72f4969b35d9304511d23df"
            ],
            "layout": "IPY_MODEL_3497a880d41a47ebbf86ec6e7593ccda"
          }
        },
        "8078bd85c993479eaa18f43de02ca670": {
          "model_module": "@jupyter-widgets/base",
          "model_name": "LayoutModel",
          "model_module_version": "1.2.0",
          "state": {
            "_model_module": "@jupyter-widgets/base",
            "_model_module_version": "1.2.0",
            "_model_name": "LayoutModel",
            "_view_count": null,
            "_view_module": "@jupyter-widgets/base",
            "_view_module_version": "1.2.0",
            "_view_name": "LayoutView",
            "align_content": null,
            "align_items": null,
            "align_self": null,
            "border": null,
            "bottom": null,
            "display": null,
            "flex": null,
            "flex_flow": null,
            "grid_area": null,
            "grid_auto_columns": null,
            "grid_auto_flow": null,
            "grid_auto_rows": null,
            "grid_column": null,
            "grid_gap": null,
            "grid_row": null,
            "grid_template_areas": null,
            "grid_template_columns": null,
            "grid_template_rows": null,
            "height": null,
            "justify_content": null,
            "justify_items": null,
            "left": null,
            "margin": null,
            "max_height": null,
            "max_width": null,
            "min_height": null,
            "min_width": null,
            "object_fit": null,
            "object_position": null,
            "order": null,
            "overflow": null,
            "overflow_x": null,
            "overflow_y": null,
            "padding": null,
            "right": null,
            "top": null,
            "visibility": null,
            "width": null
          }
        },
        "2945e055cb8648b1a9915a20dd40b2f8": {
          "model_module": "@jupyter-widgets/controls",
          "model_name": "VBoxModel",
          "model_module_version": "1.5.0",
          "state": {
            "_dom_classes": [],
            "_model_module": "@jupyter-widgets/controls",
            "_model_module_version": "1.5.0",
            "_model_name": "VBoxModel",
            "_view_count": null,
            "_view_module": "@jupyter-widgets/controls",
            "_view_module_version": "1.5.0",
            "_view_name": "VBoxView",
            "box_style": "",
            "children": [
              "IPY_MODEL_d744c6f2e25d4958bc7aa28735452bc2",
              "IPY_MODEL_3ea10c356aea4a4088033e8b062ba957"
            ],
            "layout": "IPY_MODEL_5d3d3cd33bad43518a1040749f04f6ee"
          }
        },
        "bbb92b3cae2b4d2eb2f17920ecaf85f2": {
          "model_module": "@jupyter-widgets/base",
          "model_name": "LayoutModel",
          "model_module_version": "1.2.0",
          "state": {
            "_model_module": "@jupyter-widgets/base",
            "_model_module_version": "1.2.0",
            "_model_name": "LayoutModel",
            "_view_count": null,
            "_view_module": "@jupyter-widgets/base",
            "_view_module_version": "1.2.0",
            "_view_name": "LayoutView",
            "align_content": null,
            "align_items": null,
            "align_self": null,
            "border": null,
            "bottom": null,
            "display": null,
            "flex": null,
            "flex_flow": null,
            "grid_area": null,
            "grid_auto_columns": null,
            "grid_auto_flow": null,
            "grid_auto_rows": null,
            "grid_column": null,
            "grid_gap": null,
            "grid_row": null,
            "grid_template_areas": null,
            "grid_template_columns": null,
            "grid_template_rows": null,
            "height": null,
            "justify_content": null,
            "justify_items": null,
            "left": null,
            "margin": null,
            "max_height": null,
            "max_width": null,
            "min_height": null,
            "min_width": null,
            "object_fit": null,
            "object_position": null,
            "order": null,
            "overflow": null,
            "overflow_x": null,
            "overflow_y": null,
            "padding": null,
            "right": null,
            "top": null,
            "visibility": null,
            "width": null
          }
        },
        "e521a8bfd72f4969b35d9304511d23df": {
          "model_module": "ipycanvas",
          "model_name": "CanvasModel",
          "model_module_version": "^0.11.0",
          "state": {
            "_dom_classes": [],
            "_model_module": "ipycanvas",
            "_model_module_version": "^0.11.0",
            "_model_name": "CanvasModel",
            "_send_client_ready_event": true,
            "_view_count": null,
            "_view_module": "ipycanvas",
            "_view_module_version": "^0.11.0",
            "_view_name": "CanvasView",
            "height": 1024,
            "image_data": null,
            "layout": "IPY_MODEL_68447daea5774232aafd7c54cd7eb548",
            "sync_image_data": false,
            "width": 1344
          }
        },
        "3497a880d41a47ebbf86ec6e7593ccda": {
          "model_module": "@jupyter-widgets/base",
          "model_name": "LayoutModel",
          "model_module_version": "1.2.0",
          "state": {
            "_model_module": "@jupyter-widgets/base",
            "_model_module_version": "1.2.0",
            "_model_name": "LayoutModel",
            "_view_count": null,
            "_view_module": "@jupyter-widgets/base",
            "_view_module_version": "1.2.0",
            "_view_name": "LayoutView",
            "align_content": null,
            "align_items": null,
            "align_self": null,
            "border": null,
            "bottom": null,
            "display": null,
            "flex": null,
            "flex_flow": null,
            "grid_area": null,
            "grid_auto_columns": null,
            "grid_auto_flow": null,
            "grid_auto_rows": null,
            "grid_column": null,
            "grid_gap": null,
            "grid_row": null,
            "grid_template_areas": null,
            "grid_template_columns": null,
            "grid_template_rows": null,
            "height": null,
            "justify_content": null,
            "justify_items": null,
            "left": null,
            "margin": null,
            "max_height": null,
            "max_width": null,
            "min_height": null,
            "min_width": null,
            "object_fit": null,
            "object_position": null,
            "order": null,
            "overflow": null,
            "overflow_x": null,
            "overflow_y": null,
            "padding": null,
            "right": null,
            "top": null,
            "visibility": null,
            "width": null
          }
        },
        "d744c6f2e25d4958bc7aa28735452bc2": {
          "model_module": "@jupyter-widgets/controls",
          "model_name": "HBoxModel",
          "model_module_version": "1.5.0",
          "state": {
            "_dom_classes": [],
            "_model_module": "@jupyter-widgets/controls",
            "_model_module_version": "1.5.0",
            "_model_name": "HBoxModel",
            "_view_count": null,
            "_view_module": "@jupyter-widgets/controls",
            "_view_module_version": "1.5.0",
            "_view_name": "HBoxView",
            "box_style": "",
            "children": [
              "IPY_MODEL_c8c237bd9d34434ab69d00b7189127fa",
              "IPY_MODEL_3d3f57ec159b4e5e8ed13013bcf733c1"
            ],
            "layout": "IPY_MODEL_e99a30e13cf546ad89d16a736afae8a8"
          }
        },
        "3ea10c356aea4a4088033e8b062ba957": {
          "model_module": "@jupyter-widgets/controls",
          "model_name": "HTMLModel",
          "model_module_version": "1.5.0",
          "state": {
            "_dom_classes": [],
            "_model_module": "@jupyter-widgets/controls",
            "_model_module_version": "1.5.0",
            "_model_name": "HTMLModel",
            "_view_count": null,
            "_view_module": "@jupyter-widgets/controls",
            "_view_module_version": "1.5.0",
            "_view_name": "HTMLView",
            "description": "",
            "description_tooltip": null,
            "layout": "IPY_MODEL_cdeede2e24d04a8e932440f55246248b",
            "placeholder": "​",
            "style": "IPY_MODEL_745a64653f84419083b01c08df41109c",
            "value": "<style>.widget-readout { min-width: 20px !important; }</style>"
          }
        },
        "5d3d3cd33bad43518a1040749f04f6ee": {
          "model_module": "@jupyter-widgets/base",
          "model_name": "LayoutModel",
          "model_module_version": "1.2.0",
          "state": {
            "_model_module": "@jupyter-widgets/base",
            "_model_module_version": "1.2.0",
            "_model_name": "LayoutModel",
            "_view_count": null,
            "_view_module": "@jupyter-widgets/base",
            "_view_module_version": "1.2.0",
            "_view_name": "LayoutView",
            "align_content": null,
            "align_items": null,
            "align_self": null,
            "border": null,
            "bottom": null,
            "display": null,
            "flex": null,
            "flex_flow": null,
            "grid_area": null,
            "grid_auto_columns": null,
            "grid_auto_flow": null,
            "grid_auto_rows": null,
            "grid_column": null,
            "grid_gap": null,
            "grid_row": null,
            "grid_template_areas": null,
            "grid_template_columns": null,
            "grid_template_rows": null,
            "height": null,
            "justify_content": null,
            "justify_items": null,
            "left": null,
            "margin": null,
            "max_height": null,
            "max_width": null,
            "min_height": null,
            "min_width": null,
            "object_fit": null,
            "object_position": null,
            "order": null,
            "overflow": null,
            "overflow_x": null,
            "overflow_y": null,
            "padding": null,
            "right": null,
            "top": null,
            "visibility": null,
            "width": "100%"
          }
        },
        "c8c237bd9d34434ab69d00b7189127fa": {
          "model_module": "@jupyter-widgets/controls",
          "model_name": "LabelModel",
          "model_module_version": "1.5.0",
          "state": {
            "_dom_classes": [],
            "_model_module": "@jupyter-widgets/controls",
            "_model_module_version": "1.5.0",
            "_model_name": "LabelModel",
            "_view_count": null,
            "_view_module": "@jupyter-widgets/controls",
            "_view_module_version": "1.5.0",
            "_view_name": "LabelView",
            "description": "",
            "description_tooltip": null,
            "layout": "IPY_MODEL_2a23a576b91f42d3aee806bcf2044f62",
            "placeholder": "​",
            "style": "IPY_MODEL_7d332e2992e549ae9b6a8edaa961c92b",
            "value": "[0]"
          }
        },
        "3d3f57ec159b4e5e8ed13013bcf733c1": {
          "model_module": "@jupyter-widgets/controls",
          "model_name": "IntSliderModel",
          "model_module_version": "1.5.0",
          "state": {
            "_dom_classes": [],
            "_model_module": "@jupyter-widgets/controls",
            "_model_module_version": "1.5.0",
            "_model_name": "IntSliderModel",
            "_view_count": null,
            "_view_module": "@jupyter-widgets/controls",
            "_view_module_version": "1.5.0",
            "_view_name": "IntSliderView",
            "continuous_update": true,
            "description": "",
            "description_tooltip": null,
            "disabled": false,
            "layout": "IPY_MODEL_fa8590bc9e1a44cbb13392c9b4bcec6d",
            "max": 20,
            "min": 0,
            "orientation": "horizontal",
            "readout": true,
            "readout_format": "d",
            "step": 1,
            "style": "IPY_MODEL_a015e35680414180a1b8b6b78d3f6138",
            "value": 6
          }
        },
        "e99a30e13cf546ad89d16a736afae8a8": {
          "model_module": "@jupyter-widgets/base",
          "model_name": "LayoutModel",
          "model_module_version": "1.2.0",
          "state": {
            "_model_module": "@jupyter-widgets/base",
            "_model_module_version": "1.2.0",
            "_model_name": "LayoutModel",
            "_view_count": null,
            "_view_module": "@jupyter-widgets/base",
            "_view_module_version": "1.2.0",
            "_view_name": "LayoutView",
            "align_content": null,
            "align_items": null,
            "align_self": null,
            "border": null,
            "bottom": null,
            "display": null,
            "flex": null,
            "flex_flow": null,
            "grid_area": null,
            "grid_auto_columns": null,
            "grid_auto_flow": null,
            "grid_auto_rows": null,
            "grid_column": null,
            "grid_gap": null,
            "grid_row": null,
            "grid_template_areas": null,
            "grid_template_columns": null,
            "grid_template_rows": null,
            "height": null,
            "justify_content": null,
            "justify_items": null,
            "left": null,
            "margin": null,
            "max_height": null,
            "max_width": null,
            "min_height": null,
            "min_width": null,
            "object_fit": null,
            "object_position": null,
            "order": null,
            "overflow": null,
            "overflow_x": null,
            "overflow_y": null,
            "padding": null,
            "right": null,
            "top": null,
            "visibility": null,
            "width": null
          }
        },
        "cdeede2e24d04a8e932440f55246248b": {
          "model_module": "@jupyter-widgets/base",
          "model_name": "LayoutModel",
          "model_module_version": "1.2.0",
          "state": {
            "_model_module": "@jupyter-widgets/base",
            "_model_module_version": "1.2.0",
            "_model_name": "LayoutModel",
            "_view_count": null,
            "_view_module": "@jupyter-widgets/base",
            "_view_module_version": "1.2.0",
            "_view_name": "LayoutView",
            "align_content": null,
            "align_items": null,
            "align_self": null,
            "border": null,
            "bottom": null,
            "display": null,
            "flex": null,
            "flex_flow": null,
            "grid_area": null,
            "grid_auto_columns": null,
            "grid_auto_flow": null,
            "grid_auto_rows": null,
            "grid_column": null,
            "grid_gap": null,
            "grid_row": null,
            "grid_template_areas": null,
            "grid_template_columns": null,
            "grid_template_rows": null,
            "height": null,
            "justify_content": null,
            "justify_items": null,
            "left": null,
            "margin": null,
            "max_height": null,
            "max_width": null,
            "min_height": null,
            "min_width": null,
            "object_fit": null,
            "object_position": null,
            "order": null,
            "overflow": null,
            "overflow_x": null,
            "overflow_y": null,
            "padding": null,
            "right": null,
            "top": null,
            "visibility": null,
            "width": null
          }
        },
        "745a64653f84419083b01c08df41109c": {
          "model_module": "@jupyter-widgets/controls",
          "model_name": "DescriptionStyleModel",
          "model_module_version": "1.5.0",
          "state": {
            "_model_module": "@jupyter-widgets/controls",
            "_model_module_version": "1.5.0",
            "_model_name": "DescriptionStyleModel",
            "_view_count": null,
            "_view_module": "@jupyter-widgets/base",
            "_view_module_version": "1.2.0",
            "_view_name": "StyleView",
            "description_width": ""
          }
        },
        "2a23a576b91f42d3aee806bcf2044f62": {
          "model_module": "@jupyter-widgets/base",
          "model_name": "LayoutModel",
          "model_module_version": "1.2.0",
          "state": {
            "_model_module": "@jupyter-widgets/base",
            "_model_module_version": "1.2.0",
            "_model_name": "LayoutModel",
            "_view_count": null,
            "_view_module": "@jupyter-widgets/base",
            "_view_module_version": "1.2.0",
            "_view_name": "LayoutView",
            "align_content": null,
            "align_items": null,
            "align_self": null,
            "border": null,
            "bottom": null,
            "display": null,
            "flex": null,
            "flex_flow": null,
            "grid_area": null,
            "grid_auto_columns": null,
            "grid_auto_flow": null,
            "grid_auto_rows": null,
            "grid_column": null,
            "grid_gap": null,
            "grid_row": null,
            "grid_template_areas": null,
            "grid_template_columns": null,
            "grid_template_rows": null,
            "height": null,
            "justify_content": null,
            "justify_items": null,
            "left": null,
            "margin": null,
            "max_height": null,
            "max_width": null,
            "min_height": null,
            "min_width": null,
            "object_fit": null,
            "object_position": null,
            "order": null,
            "overflow": null,
            "overflow_x": null,
            "overflow_y": null,
            "padding": null,
            "right": null,
            "top": null,
            "visibility": null,
            "width": null
          }
        },
        "7d332e2992e549ae9b6a8edaa961c92b": {
          "model_module": "@jupyter-widgets/controls",
          "model_name": "DescriptionStyleModel",
          "model_module_version": "1.5.0",
          "state": {
            "_model_module": "@jupyter-widgets/controls",
            "_model_module_version": "1.5.0",
            "_model_name": "DescriptionStyleModel",
            "_view_count": null,
            "_view_module": "@jupyter-widgets/base",
            "_view_module_version": "1.2.0",
            "_view_name": "StyleView",
            "description_width": ""
          }
        },
        "fa8590bc9e1a44cbb13392c9b4bcec6d": {
          "model_module": "@jupyter-widgets/base",
          "model_name": "LayoutModel",
          "model_module_version": "1.2.0",
          "state": {
            "_model_module": "@jupyter-widgets/base",
            "_model_module_version": "1.2.0",
            "_model_name": "LayoutModel",
            "_view_count": null,
            "_view_module": "@jupyter-widgets/base",
            "_view_module_version": "1.2.0",
            "_view_name": "LayoutView",
            "align_content": null,
            "align_items": null,
            "align_self": null,
            "border": null,
            "bottom": null,
            "display": null,
            "flex": null,
            "flex_flow": null,
            "grid_area": null,
            "grid_auto_columns": null,
            "grid_auto_flow": null,
            "grid_auto_rows": null,
            "grid_column": null,
            "grid_gap": null,
            "grid_row": null,
            "grid_template_areas": null,
            "grid_template_columns": null,
            "grid_template_rows": null,
            "height": null,
            "justify_content": null,
            "justify_items": null,
            "left": null,
            "margin": null,
            "max_height": null,
            "max_width": null,
            "min_height": null,
            "min_width": null,
            "object_fit": null,
            "object_position": null,
            "order": null,
            "overflow": null,
            "overflow_x": null,
            "overflow_y": null,
            "padding": null,
            "right": null,
            "top": null,
            "visibility": null,
            "width": "100%"
          }
        },
        "a015e35680414180a1b8b6b78d3f6138": {
          "model_module": "@jupyter-widgets/controls",
          "model_name": "SliderStyleModel",
          "model_module_version": "1.5.0",
          "state": {
            "_model_module": "@jupyter-widgets/controls",
            "_model_module_version": "1.5.0",
            "_model_name": "SliderStyleModel",
            "_view_count": null,
            "_view_module": "@jupyter-widgets/base",
            "_view_module_version": "1.2.0",
            "_view_name": "StyleView",
            "description_width": "",
            "handle_color": null
          }
        },
        "68447daea5774232aafd7c54cd7eb548": {
          "model_module": "@jupyter-widgets/base",
          "model_name": "LayoutModel",
          "model_module_version": "1.2.0",
          "state": {
            "_model_module": "@jupyter-widgets/base",
            "_model_module_version": "1.2.0",
            "_model_name": "LayoutModel",
            "_view_count": null,
            "_view_module": "@jupyter-widgets/base",
            "_view_module_version": "1.2.0",
            "_view_name": "LayoutView",
            "align_content": null,
            "align_items": null,
            "align_self": null,
            "border": null,
            "bottom": null,
            "display": null,
            "flex": null,
            "flex_flow": null,
            "grid_area": null,
            "grid_auto_columns": null,
            "grid_auto_flow": null,
            "grid_auto_rows": null,
            "grid_column": null,
            "grid_gap": null,
            "grid_row": null,
            "grid_template_areas": null,
            "grid_template_columns": null,
            "grid_template_rows": null,
            "height": null,
            "justify_content": null,
            "justify_items": null,
            "left": null,
            "margin": null,
            "max_height": null,
            "max_width": null,
            "min_height": null,
            "min_width": null,
            "object_fit": null,
            "object_position": null,
            "order": null,
            "overflow": null,
            "overflow_x": null,
            "overflow_y": null,
            "padding": null,
            "right": null,
            "top": null,
            "visibility": null,
            "width": null
          }
        },
        "2ab99de85120455d9d21cd711d70e8dd": {
          "model_module": "@jupyter-widgets/controls",
          "model_name": "HBoxModel",
          "model_module_version": "1.5.0",
          "state": {
            "_dom_classes": [],
            "_model_module": "@jupyter-widgets/controls",
            "_model_module_version": "1.5.0",
            "_model_name": "HBoxModel",
            "_view_count": null,
            "_view_module": "@jupyter-widgets/controls",
            "_view_module_version": "1.5.0",
            "_view_name": "HBoxView",
            "box_style": "",
            "children": [
              "IPY_MODEL_185f8ad5e2a64a9681b2cffe36e8b643"
            ],
            "layout": "IPY_MODEL_fda68e606f314b479e7da970c3730b3e"
          }
        },
        "185f8ad5e2a64a9681b2cffe36e8b643": {
          "model_module": "@jupyter-widgets/controls",
          "model_name": "VBoxModel",
          "model_module_version": "1.5.0",
          "state": {
            "_dom_classes": [],
            "_model_module": "@jupyter-widgets/controls",
            "_model_module_version": "1.5.0",
            "_model_name": "VBoxModel",
            "_view_count": null,
            "_view_module": "@jupyter-widgets/controls",
            "_view_module_version": "1.5.0",
            "_view_name": "VBoxView",
            "box_style": "",
            "children": [
              "IPY_MODEL_9db8f0ceb37a482ba820556a17d85947"
            ],
            "layout": "IPY_MODEL_2a98a6ba01d8400d97175c0decd283f3"
          }
        },
        "fda68e606f314b479e7da970c3730b3e": {
          "model_module": "@jupyter-widgets/base",
          "model_name": "LayoutModel",
          "model_module_version": "1.2.0",
          "state": {
            "_model_module": "@jupyter-widgets/base",
            "_model_module_version": "1.2.0",
            "_model_name": "LayoutModel",
            "_view_count": null,
            "_view_module": "@jupyter-widgets/base",
            "_view_module_version": "1.2.0",
            "_view_name": "LayoutView",
            "align_content": null,
            "align_items": null,
            "align_self": null,
            "border": null,
            "bottom": null,
            "display": null,
            "flex": null,
            "flex_flow": null,
            "grid_area": null,
            "grid_auto_columns": null,
            "grid_auto_flow": null,
            "grid_auto_rows": null,
            "grid_column": null,
            "grid_gap": null,
            "grid_row": null,
            "grid_template_areas": null,
            "grid_template_columns": null,
            "grid_template_rows": null,
            "height": null,
            "justify_content": null,
            "justify_items": null,
            "left": null,
            "margin": null,
            "max_height": null,
            "max_width": null,
            "min_height": null,
            "min_width": null,
            "object_fit": null,
            "object_position": null,
            "order": null,
            "overflow": null,
            "overflow_x": null,
            "overflow_y": null,
            "padding": null,
            "right": null,
            "top": null,
            "visibility": null,
            "width": null
          }
        },
        "9db8f0ceb37a482ba820556a17d85947": {
          "model_module": "@jupyter-widgets/controls",
          "model_name": "VBoxModel",
          "model_module_version": "1.5.0",
          "state": {
            "_dom_classes": [],
            "_model_module": "@jupyter-widgets/controls",
            "_model_module_version": "1.5.0",
            "_model_name": "VBoxModel",
            "_view_count": null,
            "_view_module": "@jupyter-widgets/controls",
            "_view_module_version": "1.5.0",
            "_view_name": "VBoxView",
            "box_style": "",
            "children": [
              "IPY_MODEL_7a65924207fa4d84a6dfb2de96e9a58c",
              "IPY_MODEL_cdaae4144d814669862f6a6316bee8f5"
            ],
            "layout": "IPY_MODEL_8b0ebf0c13004f3f832725f8cede90d0"
          }
        },
        "2a98a6ba01d8400d97175c0decd283f3": {
          "model_module": "@jupyter-widgets/base",
          "model_name": "LayoutModel",
          "model_module_version": "1.2.0",
          "state": {
            "_model_module": "@jupyter-widgets/base",
            "_model_module_version": "1.2.0",
            "_model_name": "LayoutModel",
            "_view_count": null,
            "_view_module": "@jupyter-widgets/base",
            "_view_module_version": "1.2.0",
            "_view_name": "LayoutView",
            "align_content": null,
            "align_items": null,
            "align_self": null,
            "border": null,
            "bottom": null,
            "display": null,
            "flex": null,
            "flex_flow": null,
            "grid_area": null,
            "grid_auto_columns": null,
            "grid_auto_flow": null,
            "grid_auto_rows": null,
            "grid_column": null,
            "grid_gap": null,
            "grid_row": null,
            "grid_template_areas": null,
            "grid_template_columns": null,
            "grid_template_rows": null,
            "height": null,
            "justify_content": null,
            "justify_items": null,
            "left": null,
            "margin": null,
            "max_height": null,
            "max_width": null,
            "min_height": null,
            "min_width": null,
            "object_fit": null,
            "object_position": null,
            "order": null,
            "overflow": null,
            "overflow_x": null,
            "overflow_y": null,
            "padding": null,
            "right": null,
            "top": null,
            "visibility": null,
            "width": null
          }
        },
        "7a65924207fa4d84a6dfb2de96e9a58c": {
          "model_module": "@jupyter-widgets/controls",
          "model_name": "HBoxModel",
          "model_module_version": "1.5.0",
          "state": {
            "_dom_classes": [],
            "_model_module": "@jupyter-widgets/controls",
            "_model_module_version": "1.5.0",
            "_model_name": "HBoxModel",
            "_view_count": null,
            "_view_module": "@jupyter-widgets/controls",
            "_view_module_version": "1.5.0",
            "_view_name": "HBoxView",
            "box_style": "",
            "children": [
              "IPY_MODEL_5c7ab1c906ef45ff8e2db34691548501"
            ],
            "layout": "IPY_MODEL_16fb29f50b0d4387bb3db3194eb5a6be"
          }
        },
        "cdaae4144d814669862f6a6316bee8f5": {
          "model_module": "@jupyter-widgets/controls",
          "model_name": "VBoxModel",
          "model_module_version": "1.5.0",
          "state": {
            "_dom_classes": [],
            "_model_module": "@jupyter-widgets/controls",
            "_model_module_version": "1.5.0",
            "_model_name": "VBoxModel",
            "_view_count": null,
            "_view_module": "@jupyter-widgets/controls",
            "_view_module_version": "1.5.0",
            "_view_name": "VBoxView",
            "box_style": "",
            "children": [
              "IPY_MODEL_aa9a2960a47b443d82be7a7cd44b6566"
            ],
            "layout": "IPY_MODEL_cb06c366462c43759635336a3f490f7d"
          }
        },
        "8b0ebf0c13004f3f832725f8cede90d0": {
          "model_module": "@jupyter-widgets/base",
          "model_name": "LayoutModel",
          "model_module_version": "1.2.0",
          "state": {
            "_model_module": "@jupyter-widgets/base",
            "_model_module_version": "1.2.0",
            "_model_name": "LayoutModel",
            "_view_count": null,
            "_view_module": "@jupyter-widgets/base",
            "_view_module_version": "1.2.0",
            "_view_name": "LayoutView",
            "align_content": null,
            "align_items": null,
            "align_self": null,
            "border": null,
            "bottom": null,
            "display": null,
            "flex": null,
            "flex_flow": null,
            "grid_area": null,
            "grid_auto_columns": null,
            "grid_auto_flow": null,
            "grid_auto_rows": null,
            "grid_column": null,
            "grid_gap": null,
            "grid_row": null,
            "grid_template_areas": null,
            "grid_template_columns": null,
            "grid_template_rows": null,
            "height": null,
            "justify_content": null,
            "justify_items": null,
            "left": null,
            "margin": null,
            "max_height": null,
            "max_width": null,
            "min_height": null,
            "min_width": null,
            "object_fit": null,
            "object_position": null,
            "order": null,
            "overflow": null,
            "overflow_x": null,
            "overflow_y": null,
            "padding": null,
            "right": null,
            "top": null,
            "visibility": null,
            "width": null
          }
        },
        "5c7ab1c906ef45ff8e2db34691548501": {
          "model_module": "@jupyter-widgets/controls",
          "model_name": "VBoxModel",
          "model_module_version": "1.5.0",
          "state": {
            "_dom_classes": [],
            "_model_module": "@jupyter-widgets/controls",
            "_model_module_version": "1.5.0",
            "_model_name": "VBoxModel",
            "_view_count": null,
            "_view_module": "@jupyter-widgets/controls",
            "_view_module_version": "1.5.0",
            "_view_name": "VBoxView",
            "box_style": "",
            "children": [
              "IPY_MODEL_5f95aa343d12490185cb3af851b0d401"
            ],
            "layout": "IPY_MODEL_46dbb8cee9534e38b4b629a1d39bd5b8"
          }
        },
        "16fb29f50b0d4387bb3db3194eb5a6be": {
          "model_module": "@jupyter-widgets/base",
          "model_name": "LayoutModel",
          "model_module_version": "1.2.0",
          "state": {
            "_model_module": "@jupyter-widgets/base",
            "_model_module_version": "1.2.0",
            "_model_name": "LayoutModel",
            "_view_count": null,
            "_view_module": "@jupyter-widgets/base",
            "_view_module_version": "1.2.0",
            "_view_name": "LayoutView",
            "align_content": null,
            "align_items": null,
            "align_self": null,
            "border": null,
            "bottom": null,
            "display": null,
            "flex": null,
            "flex_flow": null,
            "grid_area": null,
            "grid_auto_columns": null,
            "grid_auto_flow": null,
            "grid_auto_rows": null,
            "grid_column": null,
            "grid_gap": null,
            "grid_row": null,
            "grid_template_areas": null,
            "grid_template_columns": null,
            "grid_template_rows": null,
            "height": null,
            "justify_content": null,
            "justify_items": null,
            "left": null,
            "margin": null,
            "max_height": null,
            "max_width": null,
            "min_height": null,
            "min_width": null,
            "object_fit": null,
            "object_position": null,
            "order": null,
            "overflow": null,
            "overflow_x": null,
            "overflow_y": null,
            "padding": null,
            "right": null,
            "top": null,
            "visibility": null,
            "width": null
          }
        },
        "aa9a2960a47b443d82be7a7cd44b6566": {
          "model_module": "@jupyter-widgets/controls",
          "model_name": "VBoxModel",
          "model_module_version": "1.5.0",
          "state": {
            "_dom_classes": [],
            "_model_module": "@jupyter-widgets/controls",
            "_model_module_version": "1.5.0",
            "_model_name": "VBoxModel",
            "_view_count": null,
            "_view_module": "@jupyter-widgets/controls",
            "_view_module_version": "1.5.0",
            "_view_name": "VBoxView",
            "box_style": "",
            "children": [
              "IPY_MODEL_14e612a8c59340b9941861a2299bfc31",
              "IPY_MODEL_80835e0265d14a71a15b8f72608c8642"
            ],
            "layout": "IPY_MODEL_d099ad80344c4fecb5097d618b9edd2b"
          }
        },
        "cb06c366462c43759635336a3f490f7d": {
          "model_module": "@jupyter-widgets/base",
          "model_name": "LayoutModel",
          "model_module_version": "1.2.0",
          "state": {
            "_model_module": "@jupyter-widgets/base",
            "_model_module_version": "1.2.0",
            "_model_name": "LayoutModel",
            "_view_count": null,
            "_view_module": "@jupyter-widgets/base",
            "_view_module_version": "1.2.0",
            "_view_name": "LayoutView",
            "align_content": null,
            "align_items": null,
            "align_self": null,
            "border": null,
            "bottom": null,
            "display": null,
            "flex": null,
            "flex_flow": null,
            "grid_area": null,
            "grid_auto_columns": null,
            "grid_auto_flow": null,
            "grid_auto_rows": null,
            "grid_column": null,
            "grid_gap": null,
            "grid_row": null,
            "grid_template_areas": null,
            "grid_template_columns": null,
            "grid_template_rows": null,
            "height": null,
            "justify_content": null,
            "justify_items": null,
            "left": null,
            "margin": null,
            "max_height": null,
            "max_width": null,
            "min_height": null,
            "min_width": null,
            "object_fit": null,
            "object_position": null,
            "order": null,
            "overflow": null,
            "overflow_x": null,
            "overflow_y": null,
            "padding": null,
            "right": null,
            "top": null,
            "visibility": null,
            "width": null
          }
        },
        "5f95aa343d12490185cb3af851b0d401": {
          "model_module": "ipycanvas",
          "model_name": "CanvasModel",
          "model_module_version": "^0.11.0",
          "state": {
            "_dom_classes": [],
            "_model_module": "ipycanvas",
            "_model_module_version": "^0.11.0",
            "_model_name": "CanvasModel",
            "_send_client_ready_event": true,
            "_view_count": null,
            "_view_module": "ipycanvas",
            "_view_module_version": "^0.11.0",
            "_view_name": "CanvasView",
            "height": 1024,
            "image_data": null,
            "layout": "IPY_MODEL_5dda355ac0984fd79f3adda0f9c6f615",
            "sync_image_data": false,
            "width": 1344
          }
        },
        "46dbb8cee9534e38b4b629a1d39bd5b8": {
          "model_module": "@jupyter-widgets/base",
          "model_name": "LayoutModel",
          "model_module_version": "1.2.0",
          "state": {
            "_model_module": "@jupyter-widgets/base",
            "_model_module_version": "1.2.0",
            "_model_name": "LayoutModel",
            "_view_count": null,
            "_view_module": "@jupyter-widgets/base",
            "_view_module_version": "1.2.0",
            "_view_name": "LayoutView",
            "align_content": null,
            "align_items": null,
            "align_self": null,
            "border": null,
            "bottom": null,
            "display": null,
            "flex": null,
            "flex_flow": null,
            "grid_area": null,
            "grid_auto_columns": null,
            "grid_auto_flow": null,
            "grid_auto_rows": null,
            "grid_column": null,
            "grid_gap": null,
            "grid_row": null,
            "grid_template_areas": null,
            "grid_template_columns": null,
            "grid_template_rows": null,
            "height": null,
            "justify_content": null,
            "justify_items": null,
            "left": null,
            "margin": null,
            "max_height": null,
            "max_width": null,
            "min_height": null,
            "min_width": null,
            "object_fit": null,
            "object_position": null,
            "order": null,
            "overflow": null,
            "overflow_x": null,
            "overflow_y": null,
            "padding": null,
            "right": null,
            "top": null,
            "visibility": null,
            "width": null
          }
        },
        "14e612a8c59340b9941861a2299bfc31": {
          "model_module": "@jupyter-widgets/controls",
          "model_name": "HBoxModel",
          "model_module_version": "1.5.0",
          "state": {
            "_dom_classes": [],
            "_model_module": "@jupyter-widgets/controls",
            "_model_module_version": "1.5.0",
            "_model_name": "HBoxModel",
            "_view_count": null,
            "_view_module": "@jupyter-widgets/controls",
            "_view_module_version": "1.5.0",
            "_view_name": "HBoxView",
            "box_style": "",
            "children": [
              "IPY_MODEL_aef51328f52c4176947752171b2a42dd",
              "IPY_MODEL_99c9b0f60e514656898b0dc81c3427d2"
            ],
            "layout": "IPY_MODEL_a65d5d1d3cae4620a2243f8e226aba10"
          }
        },
        "80835e0265d14a71a15b8f72608c8642": {
          "model_module": "@jupyter-widgets/controls",
          "model_name": "HTMLModel",
          "model_module_version": "1.5.0",
          "state": {
            "_dom_classes": [],
            "_model_module": "@jupyter-widgets/controls",
            "_model_module_version": "1.5.0",
            "_model_name": "HTMLModel",
            "_view_count": null,
            "_view_module": "@jupyter-widgets/controls",
            "_view_module_version": "1.5.0",
            "_view_name": "HTMLView",
            "description": "",
            "description_tooltip": null,
            "layout": "IPY_MODEL_7e96254111984fe7b3a80fb3f86bdce9",
            "placeholder": "​",
            "style": "IPY_MODEL_ced040f03db541b6bbf370a32b8689b6",
            "value": "<style>.widget-readout { min-width: 20px !important; }</style>"
          }
        },
        "d099ad80344c4fecb5097d618b9edd2b": {
          "model_module": "@jupyter-widgets/base",
          "model_name": "LayoutModel",
          "model_module_version": "1.2.0",
          "state": {
            "_model_module": "@jupyter-widgets/base",
            "_model_module_version": "1.2.0",
            "_model_name": "LayoutModel",
            "_view_count": null,
            "_view_module": "@jupyter-widgets/base",
            "_view_module_version": "1.2.0",
            "_view_name": "LayoutView",
            "align_content": null,
            "align_items": null,
            "align_self": null,
            "border": null,
            "bottom": null,
            "display": null,
            "flex": null,
            "flex_flow": null,
            "grid_area": null,
            "grid_auto_columns": null,
            "grid_auto_flow": null,
            "grid_auto_rows": null,
            "grid_column": null,
            "grid_gap": null,
            "grid_row": null,
            "grid_template_areas": null,
            "grid_template_columns": null,
            "grid_template_rows": null,
            "height": null,
            "justify_content": null,
            "justify_items": null,
            "left": null,
            "margin": null,
            "max_height": null,
            "max_width": null,
            "min_height": null,
            "min_width": null,
            "object_fit": null,
            "object_position": null,
            "order": null,
            "overflow": null,
            "overflow_x": null,
            "overflow_y": null,
            "padding": null,
            "right": null,
            "top": null,
            "visibility": null,
            "width": "100%"
          }
        },
        "aef51328f52c4176947752171b2a42dd": {
          "model_module": "@jupyter-widgets/controls",
          "model_name": "LabelModel",
          "model_module_version": "1.5.0",
          "state": {
            "_dom_classes": [],
            "_model_module": "@jupyter-widgets/controls",
            "_model_module_version": "1.5.0",
            "_model_name": "LabelModel",
            "_view_count": null,
            "_view_module": "@jupyter-widgets/controls",
            "_view_module_version": "1.5.0",
            "_view_name": "LabelView",
            "description": "",
            "description_tooltip": null,
            "layout": "IPY_MODEL_b37147974dfe41d9a777eeb6c5a3333a",
            "placeholder": "​",
            "style": "IPY_MODEL_869c829f22ef4e1780942e836a3dba4e",
            "value": "[0]"
          }
        },
        "99c9b0f60e514656898b0dc81c3427d2": {
          "model_module": "@jupyter-widgets/controls",
          "model_name": "IntSliderModel",
          "model_module_version": "1.5.0",
          "state": {
            "_dom_classes": [],
            "_model_module": "@jupyter-widgets/controls",
            "_model_module_version": "1.5.0",
            "_model_name": "IntSliderModel",
            "_view_count": null,
            "_view_module": "@jupyter-widgets/controls",
            "_view_module_version": "1.5.0",
            "_view_name": "IntSliderView",
            "continuous_update": true,
            "description": "",
            "description_tooltip": null,
            "disabled": false,
            "layout": "IPY_MODEL_17f962a098af46b5ae0cd346b5f945a7",
            "max": 19,
            "min": 0,
            "orientation": "horizontal",
            "readout": true,
            "readout_format": "d",
            "step": 1,
            "style": "IPY_MODEL_cd765ef86e9b4c5fa45c2bd8edfe0d27",
            "value": 6
          }
        },
        "a65d5d1d3cae4620a2243f8e226aba10": {
          "model_module": "@jupyter-widgets/base",
          "model_name": "LayoutModel",
          "model_module_version": "1.2.0",
          "state": {
            "_model_module": "@jupyter-widgets/base",
            "_model_module_version": "1.2.0",
            "_model_name": "LayoutModel",
            "_view_count": null,
            "_view_module": "@jupyter-widgets/base",
            "_view_module_version": "1.2.0",
            "_view_name": "LayoutView",
            "align_content": null,
            "align_items": null,
            "align_self": null,
            "border": null,
            "bottom": null,
            "display": null,
            "flex": null,
            "flex_flow": null,
            "grid_area": null,
            "grid_auto_columns": null,
            "grid_auto_flow": null,
            "grid_auto_rows": null,
            "grid_column": null,
            "grid_gap": null,
            "grid_row": null,
            "grid_template_areas": null,
            "grid_template_columns": null,
            "grid_template_rows": null,
            "height": null,
            "justify_content": null,
            "justify_items": null,
            "left": null,
            "margin": null,
            "max_height": null,
            "max_width": null,
            "min_height": null,
            "min_width": null,
            "object_fit": null,
            "object_position": null,
            "order": null,
            "overflow": null,
            "overflow_x": null,
            "overflow_y": null,
            "padding": null,
            "right": null,
            "top": null,
            "visibility": null,
            "width": null
          }
        },
        "7e96254111984fe7b3a80fb3f86bdce9": {
          "model_module": "@jupyter-widgets/base",
          "model_name": "LayoutModel",
          "model_module_version": "1.2.0",
          "state": {
            "_model_module": "@jupyter-widgets/base",
            "_model_module_version": "1.2.0",
            "_model_name": "LayoutModel",
            "_view_count": null,
            "_view_module": "@jupyter-widgets/base",
            "_view_module_version": "1.2.0",
            "_view_name": "LayoutView",
            "align_content": null,
            "align_items": null,
            "align_self": null,
            "border": null,
            "bottom": null,
            "display": null,
            "flex": null,
            "flex_flow": null,
            "grid_area": null,
            "grid_auto_columns": null,
            "grid_auto_flow": null,
            "grid_auto_rows": null,
            "grid_column": null,
            "grid_gap": null,
            "grid_row": null,
            "grid_template_areas": null,
            "grid_template_columns": null,
            "grid_template_rows": null,
            "height": null,
            "justify_content": null,
            "justify_items": null,
            "left": null,
            "margin": null,
            "max_height": null,
            "max_width": null,
            "min_height": null,
            "min_width": null,
            "object_fit": null,
            "object_position": null,
            "order": null,
            "overflow": null,
            "overflow_x": null,
            "overflow_y": null,
            "padding": null,
            "right": null,
            "top": null,
            "visibility": null,
            "width": null
          }
        },
        "ced040f03db541b6bbf370a32b8689b6": {
          "model_module": "@jupyter-widgets/controls",
          "model_name": "DescriptionStyleModel",
          "model_module_version": "1.5.0",
          "state": {
            "_model_module": "@jupyter-widgets/controls",
            "_model_module_version": "1.5.0",
            "_model_name": "DescriptionStyleModel",
            "_view_count": null,
            "_view_module": "@jupyter-widgets/base",
            "_view_module_version": "1.2.0",
            "_view_name": "StyleView",
            "description_width": ""
          }
        },
        "b37147974dfe41d9a777eeb6c5a3333a": {
          "model_module": "@jupyter-widgets/base",
          "model_name": "LayoutModel",
          "model_module_version": "1.2.0",
          "state": {
            "_model_module": "@jupyter-widgets/base",
            "_model_module_version": "1.2.0",
            "_model_name": "LayoutModel",
            "_view_count": null,
            "_view_module": "@jupyter-widgets/base",
            "_view_module_version": "1.2.0",
            "_view_name": "LayoutView",
            "align_content": null,
            "align_items": null,
            "align_self": null,
            "border": null,
            "bottom": null,
            "display": null,
            "flex": null,
            "flex_flow": null,
            "grid_area": null,
            "grid_auto_columns": null,
            "grid_auto_flow": null,
            "grid_auto_rows": null,
            "grid_column": null,
            "grid_gap": null,
            "grid_row": null,
            "grid_template_areas": null,
            "grid_template_columns": null,
            "grid_template_rows": null,
            "height": null,
            "justify_content": null,
            "justify_items": null,
            "left": null,
            "margin": null,
            "max_height": null,
            "max_width": null,
            "min_height": null,
            "min_width": null,
            "object_fit": null,
            "object_position": null,
            "order": null,
            "overflow": null,
            "overflow_x": null,
            "overflow_y": null,
            "padding": null,
            "right": null,
            "top": null,
            "visibility": null,
            "width": null
          }
        },
        "869c829f22ef4e1780942e836a3dba4e": {
          "model_module": "@jupyter-widgets/controls",
          "model_name": "DescriptionStyleModel",
          "model_module_version": "1.5.0",
          "state": {
            "_model_module": "@jupyter-widgets/controls",
            "_model_module_version": "1.5.0",
            "_model_name": "DescriptionStyleModel",
            "_view_count": null,
            "_view_module": "@jupyter-widgets/base",
            "_view_module_version": "1.2.0",
            "_view_name": "StyleView",
            "description_width": ""
          }
        },
        "17f962a098af46b5ae0cd346b5f945a7": {
          "model_module": "@jupyter-widgets/base",
          "model_name": "LayoutModel",
          "model_module_version": "1.2.0",
          "state": {
            "_model_module": "@jupyter-widgets/base",
            "_model_module_version": "1.2.0",
            "_model_name": "LayoutModel",
            "_view_count": null,
            "_view_module": "@jupyter-widgets/base",
            "_view_module_version": "1.2.0",
            "_view_name": "LayoutView",
            "align_content": null,
            "align_items": null,
            "align_self": null,
            "border": null,
            "bottom": null,
            "display": null,
            "flex": null,
            "flex_flow": null,
            "grid_area": null,
            "grid_auto_columns": null,
            "grid_auto_flow": null,
            "grid_auto_rows": null,
            "grid_column": null,
            "grid_gap": null,
            "grid_row": null,
            "grid_template_areas": null,
            "grid_template_columns": null,
            "grid_template_rows": null,
            "height": null,
            "justify_content": null,
            "justify_items": null,
            "left": null,
            "margin": null,
            "max_height": null,
            "max_width": null,
            "min_height": null,
            "min_width": null,
            "object_fit": null,
            "object_position": null,
            "order": null,
            "overflow": null,
            "overflow_x": null,
            "overflow_y": null,
            "padding": null,
            "right": null,
            "top": null,
            "visibility": null,
            "width": "100%"
          }
        },
        "cd765ef86e9b4c5fa45c2bd8edfe0d27": {
          "model_module": "@jupyter-widgets/controls",
          "model_name": "SliderStyleModel",
          "model_module_version": "1.5.0",
          "state": {
            "_model_module": "@jupyter-widgets/controls",
            "_model_module_version": "1.5.0",
            "_model_name": "SliderStyleModel",
            "_view_count": null,
            "_view_module": "@jupyter-widgets/base",
            "_view_module_version": "1.2.0",
            "_view_name": "StyleView",
            "description_width": "",
            "handle_color": null
          }
        },
        "5dda355ac0984fd79f3adda0f9c6f615": {
          "model_module": "@jupyter-widgets/base",
          "model_name": "LayoutModel",
          "model_module_version": "1.2.0",
          "state": {
            "_model_module": "@jupyter-widgets/base",
            "_model_module_version": "1.2.0",
            "_model_name": "LayoutModel",
            "_view_count": null,
            "_view_module": "@jupyter-widgets/base",
            "_view_module_version": "1.2.0",
            "_view_name": "LayoutView",
            "align_content": null,
            "align_items": null,
            "align_self": null,
            "border": null,
            "bottom": null,
            "display": null,
            "flex": null,
            "flex_flow": null,
            "grid_area": null,
            "grid_auto_columns": null,
            "grid_auto_flow": null,
            "grid_auto_rows": null,
            "grid_column": null,
            "grid_gap": null,
            "grid_row": null,
            "grid_template_areas": null,
            "grid_template_columns": null,
            "grid_template_rows": null,
            "height": null,
            "justify_content": null,
            "justify_items": null,
            "left": null,
            "margin": null,
            "max_height": null,
            "max_width": null,
            "min_height": null,
            "min_width": null,
            "object_fit": null,
            "object_position": null,
            "order": null,
            "overflow": null,
            "overflow_x": null,
            "overflow_y": null,
            "padding": null,
            "right": null,
            "top": null,
            "visibility": null,
            "width": null
          }
        }
      }
    }
  },
  "nbformat": 4,
  "nbformat_minor": 5
}